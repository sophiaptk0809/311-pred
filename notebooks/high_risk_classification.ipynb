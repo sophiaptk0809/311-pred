{
 "cells": [
  {
   "cell_type": "code",
   "execution_count": 4,
   "id": "d6b76e77",
   "metadata": {
    "vscode": {
     "languageId": "markdown"
    }
   },
   "outputs": [],
   "source": [
    "import pandas as pd\n",
    "import numpy as np\n",
    "import matplotlib.pyplot as plt\n",
    "import seaborn as sns\n",
    "from sklearn.model_selection import train_test_split\n",
    "from sklearn.ensemble import RandomForestClassifier\n",
    "from sklearn.preprocessing import OneHotEncoder,FunctionTransformer, StandardScaler\n",
    "from sklearn.metrics import accuracy_score, precision_score, recall_score, f1_score, roc_auc_score, confusion_matrix,classification_report,precision_recall_curve,make_scorer\n",
    "from sklearn.compose import ColumnTransformer\n",
    "from sklearn.pipeline import Pipeline\n",
    "from sklearn.impute import SimpleImputer\n",
    "from imblearn.over_sampling import SMOTE\n",
    "from sklearn.linear_model import LogisticRegression\n",
    "from lightgbm import LGBMClassifier\n",
    "from imblearn.combine import SMOTETomek\n",
    "from xgboost import XGBClassifier\n",
    "from itertools import product\n",
    "from sklearn.model_selection import GridSearchCV, RandomizedSearchCV"
   ]
  },
  {
   "cell_type": "code",
   "execution_count": null,
   "id": "333cb444",
   "metadata": {
    "vscode": {
     "languageId": "markdown"
    }
   },
   "outputs": [
    {
     "data": {
      "text/html": [
       "<div>\n",
       "<style scoped>\n",
       "    .dataframe tbody tr th:only-of-type {\n",
       "        vertical-align: middle;\n",
       "    }\n",
       "\n",
       "    .dataframe tbody tr th {\n",
       "        vertical-align: top;\n",
       "    }\n",
       "\n",
       "    .dataframe thead th {\n",
       "        text-align: right;\n",
       "    }\n",
       "</style>\n",
       "<table border=\"1\" class=\"dataframe\">\n",
       "  <thead>\n",
       "    <tr style=\"text-align: right;\">\n",
       "      <th></th>\n",
       "      <th>_id</th>\n",
       "      <th>group_id</th>\n",
       "      <th>num_requests</th>\n",
       "      <th>parent_closed</th>\n",
       "      <th>status_name</th>\n",
       "      <th>status_code</th>\n",
       "      <th>dept</th>\n",
       "      <th>request_type_name</th>\n",
       "      <th>request_type_id</th>\n",
       "      <th>create_date_et</th>\n",
       "      <th>...</th>\n",
       "      <th>city</th>\n",
       "      <th>neighborhood</th>\n",
       "      <th>census_tract</th>\n",
       "      <th>council_district</th>\n",
       "      <th>ward</th>\n",
       "      <th>police_zone</th>\n",
       "      <th>latitude</th>\n",
       "      <th>longitude</th>\n",
       "      <th>geo_accuracy</th>\n",
       "      <th>date</th>\n",
       "    </tr>\n",
       "  </thead>\n",
       "  <tbody>\n",
       "    <tr>\n",
       "      <th>0</th>\n",
       "      <td>1</td>\n",
       "      <td>827262</td>\n",
       "      <td>1</td>\n",
       "      <td>f</td>\n",
       "      <td>open</td>\n",
       "      <td>0</td>\n",
       "      <td>DPW - Administration</td>\n",
       "      <td>Park Shelter</td>\n",
       "      <td>543</td>\n",
       "      <td>2024-03-12 10:50:00</td>\n",
       "      <td>...</td>\n",
       "      <td>Pittsburgh</td>\n",
       "      <td>NaN</td>\n",
       "      <td>NaN</td>\n",
       "      <td>NaN</td>\n",
       "      <td>NaN</td>\n",
       "      <td>NaN</td>\n",
       "      <td>NaN</td>\n",
       "      <td>NaN</td>\n",
       "      <td>NULL_COORDINATES</td>\n",
       "      <td>2024-03-12</td>\n",
       "    </tr>\n",
       "    <tr>\n",
       "      <th>1</th>\n",
       "      <td>2</td>\n",
       "      <td>720661</td>\n",
       "      <td>1</td>\n",
       "      <td>f</td>\n",
       "      <td>open</td>\n",
       "      <td>0</td>\n",
       "      <td>DPW - Administration</td>\n",
       "      <td>Park Shelter</td>\n",
       "      <td>543</td>\n",
       "      <td>2023-03-20 07:52:00</td>\n",
       "      <td>...</td>\n",
       "      <td>Pittsburgh</td>\n",
       "      <td>NaN</td>\n",
       "      <td>NaN</td>\n",
       "      <td>NaN</td>\n",
       "      <td>NaN</td>\n",
       "      <td>NaN</td>\n",
       "      <td>NaN</td>\n",
       "      <td>NaN</td>\n",
       "      <td>NULL_COORDINATES</td>\n",
       "      <td>2023-03-20</td>\n",
       "    </tr>\n",
       "    <tr>\n",
       "      <th>2</th>\n",
       "      <td>3</td>\n",
       "      <td>722010</td>\n",
       "      <td>1</td>\n",
       "      <td>f</td>\n",
       "      <td>open</td>\n",
       "      <td>0</td>\n",
       "      <td>DPW - Administration</td>\n",
       "      <td>Park Shelter</td>\n",
       "      <td>543</td>\n",
       "      <td>2023-03-24 07:44:00</td>\n",
       "      <td>...</td>\n",
       "      <td>Pittsburgh</td>\n",
       "      <td>NaN</td>\n",
       "      <td>NaN</td>\n",
       "      <td>NaN</td>\n",
       "      <td>NaN</td>\n",
       "      <td>NaN</td>\n",
       "      <td>NaN</td>\n",
       "      <td>NaN</td>\n",
       "      <td>NULL_COORDINATES</td>\n",
       "      <td>2023-03-24</td>\n",
       "    </tr>\n",
       "    <tr>\n",
       "      <th>3</th>\n",
       "      <td>4</td>\n",
       "      <td>846915</td>\n",
       "      <td>1</td>\n",
       "      <td>f</td>\n",
       "      <td>open</td>\n",
       "      <td>0</td>\n",
       "      <td>Police - Zones 1-6</td>\n",
       "      <td>Illegal Parking</td>\n",
       "      <td>417</td>\n",
       "      <td>2024-05-19 12:24:00</td>\n",
       "      <td>...</td>\n",
       "      <td>Pittsburgh</td>\n",
       "      <td>NaN</td>\n",
       "      <td>NaN</td>\n",
       "      <td>NaN</td>\n",
       "      <td>NaN</td>\n",
       "      <td>NaN</td>\n",
       "      <td>NaN</td>\n",
       "      <td>NaN</td>\n",
       "      <td>NULL_COORDINATES</td>\n",
       "      <td>2024-05-19</td>\n",
       "    </tr>\n",
       "    <tr>\n",
       "      <th>4</th>\n",
       "      <td>5</td>\n",
       "      <td>853708</td>\n",
       "      <td>1</td>\n",
       "      <td>f</td>\n",
       "      <td>open</td>\n",
       "      <td>0</td>\n",
       "      <td>DPW - Facilities</td>\n",
       "      <td>City Facility</td>\n",
       "      <td>375</td>\n",
       "      <td>2024-06-06 23:04:00</td>\n",
       "      <td>...</td>\n",
       "      <td>Pittsburgh</td>\n",
       "      <td>NaN</td>\n",
       "      <td>NaN</td>\n",
       "      <td>NaN</td>\n",
       "      <td>NaN</td>\n",
       "      <td>NaN</td>\n",
       "      <td>NaN</td>\n",
       "      <td>NaN</td>\n",
       "      <td>NULL_COORDINATES</td>\n",
       "      <td>2024-06-06</td>\n",
       "    </tr>\n",
       "  </tbody>\n",
       "</table>\n",
       "<p>5 rows × 30 columns</p>\n",
       "</div>"
      ],
      "text/plain": [
       "   _id  group_id  num_requests parent_closed status_name  status_code  \\\n",
       "0    1    827262             1             f        open            0   \n",
       "1    2    720661             1             f        open            0   \n",
       "2    3    722010             1             f        open            0   \n",
       "3    4    846915             1             f        open            0   \n",
       "4    5    853708             1             f        open            0   \n",
       "\n",
       "                   dept request_type_name  request_type_id  \\\n",
       "0  DPW - Administration      Park Shelter              543   \n",
       "1  DPW - Administration      Park Shelter              543   \n",
       "2  DPW - Administration      Park Shelter              543   \n",
       "3    Police - Zones 1-6   Illegal Parking              417   \n",
       "4      DPW - Facilities     City Facility              375   \n",
       "\n",
       "        create_date_et  ...        city neighborhood census_tract  \\\n",
       "0  2024-03-12 10:50:00  ...  Pittsburgh          NaN          NaN   \n",
       "1  2023-03-20 07:52:00  ...  Pittsburgh          NaN          NaN   \n",
       "2  2023-03-24 07:44:00  ...  Pittsburgh          NaN          NaN   \n",
       "3  2024-05-19 12:24:00  ...  Pittsburgh          NaN          NaN   \n",
       "4  2024-06-06 23:04:00  ...  Pittsburgh          NaN          NaN   \n",
       "\n",
       "  council_district ward police_zone latitude longitude      geo_accuracy  \\\n",
       "0              NaN  NaN         NaN      NaN       NaN  NULL_COORDINATES   \n",
       "1              NaN  NaN         NaN      NaN       NaN  NULL_COORDINATES   \n",
       "2              NaN  NaN         NaN      NaN       NaN  NULL_COORDINATES   \n",
       "3              NaN  NaN         NaN      NaN       NaN  NULL_COORDINATES   \n",
       "4              NaN  NaN         NaN      NaN       NaN  NULL_COORDINATES   \n",
       "\n",
       "         date  \n",
       "0  2024-03-12  \n",
       "1  2023-03-20  \n",
       "2  2023-03-24  \n",
       "3  2024-05-19  \n",
       "4  2024-06-06  \n",
       "\n",
       "[5 rows x 30 columns]"
      ]
     },
     "execution_count": 3,
     "metadata": {},
     "output_type": "execute_result"
    }
   ],
   "source": [
    "# Load data from a CSV file\n",
    "file_path = '/data/processed/DPW_data_r3y.csv'  # Replace with your CSV file path\n",
    "data = pd.read_csv(file_path)\n",
    "\n",
    "# Display the first few rows of the data\n",
    "data.head()"
   ]
  },
  {
   "cell_type": "code",
   "execution_count": 5,
   "id": "ddf87010",
   "metadata": {
    "vscode": {
     "languageId": "markdown"
    }
   },
   "outputs": [
    {
     "data": {
      "text/html": [
       "<div>\n",
       "<style scoped>\n",
       "    .dataframe tbody tr th:only-of-type {\n",
       "        vertical-align: middle;\n",
       "    }\n",
       "\n",
       "    .dataframe tbody tr th {\n",
       "        vertical-align: top;\n",
       "    }\n",
       "\n",
       "    .dataframe thead th {\n",
       "        text-align: right;\n",
       "    }\n",
       "</style>\n",
       "<table border=\"1\" class=\"dataframe\">\n",
       "  <thead>\n",
       "    <tr style=\"text-align: right;\">\n",
       "      <th></th>\n",
       "      <th>_id</th>\n",
       "      <th>group_id</th>\n",
       "      <th>num_requests</th>\n",
       "      <th>parent_closed</th>\n",
       "      <th>status_name</th>\n",
       "      <th>status_code</th>\n",
       "      <th>dept</th>\n",
       "      <th>request_type_name</th>\n",
       "      <th>request_type_id</th>\n",
       "      <th>create_date_et</th>\n",
       "      <th>...</th>\n",
       "      <th>city</th>\n",
       "      <th>neighborhood</th>\n",
       "      <th>census_tract</th>\n",
       "      <th>council_district</th>\n",
       "      <th>ward</th>\n",
       "      <th>police_zone</th>\n",
       "      <th>latitude</th>\n",
       "      <th>longitude</th>\n",
       "      <th>geo_accuracy</th>\n",
       "      <th>date</th>\n",
       "    </tr>\n",
       "  </thead>\n",
       "  <tbody>\n",
       "    <tr>\n",
       "      <th>55</th>\n",
       "      <td>65</td>\n",
       "      <td>755693</td>\n",
       "      <td>1</td>\n",
       "      <td>f</td>\n",
       "      <td>in progress</td>\n",
       "      <td>3</td>\n",
       "      <td>DPW - Street Maintenance</td>\n",
       "      <td>Litter, Public Property</td>\n",
       "      <td>831</td>\n",
       "      <td>2023-07-08 11:38:00</td>\n",
       "      <td>...</td>\n",
       "      <td>Pittsburgh</td>\n",
       "      <td>NaN</td>\n",
       "      <td>NaN</td>\n",
       "      <td>NaN</td>\n",
       "      <td>NaN</td>\n",
       "      <td>NaN</td>\n",
       "      <td>NaN</td>\n",
       "      <td>NaN</td>\n",
       "      <td>NULL_COORDINATES</td>\n",
       "      <td>2023-07-08</td>\n",
       "    </tr>\n",
       "    <tr>\n",
       "      <th>74</th>\n",
       "      <td>86</td>\n",
       "      <td>880597</td>\n",
       "      <td>1</td>\n",
       "      <td>t</td>\n",
       "      <td>closed</td>\n",
       "      <td>1</td>\n",
       "      <td>DPW - Street Maintenance</td>\n",
       "      <td>Trail Maintenance</td>\n",
       "      <td>541</td>\n",
       "      <td>2024-08-28 08:23:00</td>\n",
       "      <td>...</td>\n",
       "      <td>Pittsburgh</td>\n",
       "      <td>NaN</td>\n",
       "      <td>NaN</td>\n",
       "      <td>NaN</td>\n",
       "      <td>NaN</td>\n",
       "      <td>NaN</td>\n",
       "      <td>NaN</td>\n",
       "      <td>NaN</td>\n",
       "      <td>NULL_COORDINATES</td>\n",
       "      <td>2024-08-28</td>\n",
       "    </tr>\n",
       "    <tr>\n",
       "      <th>147</th>\n",
       "      <td>177</td>\n",
       "      <td>882900</td>\n",
       "      <td>1</td>\n",
       "      <td>t</td>\n",
       "      <td>closed</td>\n",
       "      <td>1</td>\n",
       "      <td>DPW - Street Maintenance</td>\n",
       "      <td>Street Cleaning/Sweeping</td>\n",
       "      <td>317</td>\n",
       "      <td>2024-09-05 09:41:00</td>\n",
       "      <td>...</td>\n",
       "      <td>Pittsburgh</td>\n",
       "      <td>NaN</td>\n",
       "      <td>NaN</td>\n",
       "      <td>NaN</td>\n",
       "      <td>NaN</td>\n",
       "      <td>NaN</td>\n",
       "      <td>NaN</td>\n",
       "      <td>NaN</td>\n",
       "      <td>NULL_COORDINATES</td>\n",
       "      <td>2024-09-05</td>\n",
       "    </tr>\n",
       "    <tr>\n",
       "      <th>380</th>\n",
       "      <td>454</td>\n",
       "      <td>873480</td>\n",
       "      <td>1</td>\n",
       "      <td>t</td>\n",
       "      <td>closed</td>\n",
       "      <td>1</td>\n",
       "      <td>DPW - Street Maintenance</td>\n",
       "      <td>Trail Maintenance</td>\n",
       "      <td>541</td>\n",
       "      <td>2024-08-06 11:35:00</td>\n",
       "      <td>...</td>\n",
       "      <td>Pittsburgh</td>\n",
       "      <td>NaN</td>\n",
       "      <td>NaN</td>\n",
       "      <td>NaN</td>\n",
       "      <td>NaN</td>\n",
       "      <td>NaN</td>\n",
       "      <td>NaN</td>\n",
       "      <td>NaN</td>\n",
       "      <td>NULL_COORDINATES</td>\n",
       "      <td>2024-08-06</td>\n",
       "    </tr>\n",
       "    <tr>\n",
       "      <th>560</th>\n",
       "      <td>669</td>\n",
       "      <td>738943</td>\n",
       "      <td>1</td>\n",
       "      <td>f</td>\n",
       "      <td>open</td>\n",
       "      <td>0</td>\n",
       "      <td>DPW - Street Maintenance</td>\n",
       "      <td>Litter, Public Property</td>\n",
       "      <td>831</td>\n",
       "      <td>2023-05-22 10:12:00</td>\n",
       "      <td>...</td>\n",
       "      <td>Pittsburgh</td>\n",
       "      <td>NaN</td>\n",
       "      <td>4.200398e+10</td>\n",
       "      <td>6.0</td>\n",
       "      <td>NaN</td>\n",
       "      <td>NaN</td>\n",
       "      <td>40.446306</td>\n",
       "      <td>-80.027041</td>\n",
       "      <td>EXACT</td>\n",
       "      <td>2023-05-22</td>\n",
       "    </tr>\n",
       "  </tbody>\n",
       "</table>\n",
       "<p>5 rows × 30 columns</p>\n",
       "</div>"
      ],
      "text/plain": [
       "     _id  group_id  num_requests parent_closed  status_name  status_code  \\\n",
       "55    65    755693             1             f  in progress            3   \n",
       "74    86    880597             1             t       closed            1   \n",
       "147  177    882900             1             t       closed            1   \n",
       "380  454    873480             1             t       closed            1   \n",
       "560  669    738943             1             f         open            0   \n",
       "\n",
       "                         dept         request_type_name  request_type_id  \\\n",
       "55   DPW - Street Maintenance   Litter, Public Property              831   \n",
       "74   DPW - Street Maintenance         Trail Maintenance              541   \n",
       "147  DPW - Street Maintenance  Street Cleaning/Sweeping              317   \n",
       "380  DPW - Street Maintenance         Trail Maintenance              541   \n",
       "560  DPW - Street Maintenance   Litter, Public Property              831   \n",
       "\n",
       "          create_date_et  ...        city neighborhood  census_tract  \\\n",
       "55   2023-07-08 11:38:00  ...  Pittsburgh          NaN           NaN   \n",
       "74   2024-08-28 08:23:00  ...  Pittsburgh          NaN           NaN   \n",
       "147  2024-09-05 09:41:00  ...  Pittsburgh          NaN           NaN   \n",
       "380  2024-08-06 11:35:00  ...  Pittsburgh          NaN           NaN   \n",
       "560  2023-05-22 10:12:00  ...  Pittsburgh          NaN  4.200398e+10   \n",
       "\n",
       "    council_district ward police_zone   latitude  longitude      geo_accuracy  \\\n",
       "55               NaN  NaN         NaN        NaN        NaN  NULL_COORDINATES   \n",
       "74               NaN  NaN         NaN        NaN        NaN  NULL_COORDINATES   \n",
       "147              NaN  NaN         NaN        NaN        NaN  NULL_COORDINATES   \n",
       "380              NaN  NaN         NaN        NaN        NaN  NULL_COORDINATES   \n",
       "560              6.0  NaN         NaN  40.446306 -80.027041             EXACT   \n",
       "\n",
       "           date  \n",
       "55   2023-07-08  \n",
       "74   2024-08-28  \n",
       "147  2024-09-05  \n",
       "380  2024-08-06  \n",
       "560  2023-05-22  \n",
       "\n",
       "[5 rows x 30 columns]"
      ]
     },
     "execution_count": 5,
     "metadata": {},
     "output_type": "execute_result"
    }
   ],
   "source": [
    "# Filter the dept == 'DPW - Street Maintenance'\n",
    "dpw_sm = data[data['dept'] == 'DPW - Street Maintenance']\n",
    "dpw_sm.head()"
   ]
  },
  {
   "cell_type": "code",
   "execution_count": 6,
   "id": "0f886c55",
   "metadata": {
    "vscode": {
     "languageId": "markdown"
    }
   },
   "outputs": [
    {
     "data": {
      "text/plain": [
       "np.False_"
      ]
     },
     "execution_count": 6,
     "metadata": {},
     "output_type": "execute_result"
    }
   ],
   "source": [
    "# Check duplicated data\n",
    "dups = dpw_sm.duplicated()\n",
    "dups.any()"
   ]
  },
  {
   "cell_type": "code",
   "execution_count": 7,
   "id": "5dd9bdd3",
   "metadata": {
    "vscode": {
     "languageId": "markdown"
    }
   },
   "outputs": [
    {
     "name": "stdout",
     "output_type": "stream",
     "text": [
      "request_type_name\n",
      "Potholes                    10801\n",
      "Litter, Public Property      6286\n",
      "Snow/Ice removal             6135\n",
      "Overgrowth                   3362\n",
      "Street Cleaning/Sweeping     3237\n",
      "                            ...  \n",
      "Dumpster (on Street)            1\n",
      "Repair City Steps               1\n",
      "Storm Damage                    1\n",
      "Recycling Violation             1\n",
      "Brick or Block Repair           1\n",
      "Name: count, Length: 65, dtype: int64\n",
      "                 _id       group_id  num_requests   status_code  \\\n",
      "count   39090.000000   39090.000000  39090.000000  39090.000000   \n",
      "mean   622270.571323  775751.960578      1.018854      1.041494   \n",
      "std    203455.613641   95453.034213      0.197006      0.376899   \n",
      "min        65.000000  620415.000000      1.000000      0.000000   \n",
      "25%    611757.500000  693613.750000      1.000000      1.000000   \n",
      "50%    682809.500000  774244.000000      1.000000      1.000000   \n",
      "75%    755159.000000  857294.250000      1.000000      1.000000   \n",
      "max    815687.000000  926116.000000     10.000000      4.000000   \n",
      "\n",
      "       request_type_id     street_id  cross_street_id  census_tract  \\\n",
      "count     39090.000000  38835.000000     38835.000000  9.147000e+03   \n",
      "mean       3251.852059   3035.251886       744.748783  4.200323e+10   \n",
      "std       35624.834759   2165.528032      1964.520448  2.049581e+05   \n",
      "min         315.000000      0.000000         0.000000  4.200301e+10   \n",
      "25%         480.000000   1351.000000         0.000000  4.200310e+10   \n",
      "50%         484.000000   2856.000000         0.000000  4.200317e+10   \n",
      "75%         546.000000   4323.000000         0.000000  4.200329e+10   \n",
      "max      594202.000000  12561.000000     12550.000000  4.200398e+10   \n",
      "\n",
      "       council_district          ward   police_zone      latitude  \\\n",
      "count      38846.000000  38613.000000  38599.000000  38906.000000   \n",
      "mean           4.823379     16.524875      3.510376     40.398617   \n",
      "std            2.570650      8.416477      1.605114      1.296348   \n",
      "min            1.000000      0.000000      1.000000      0.000000   \n",
      "25%            3.000000     10.000000      2.000000     40.421907   \n",
      "50%            5.000000     15.000000      4.000000     40.445092   \n",
      "75%            7.000000     23.000000      5.000000     40.461465   \n",
      "max            9.000000     32.000000      6.000000     40.500191   \n",
      "\n",
      "          longitude  \n",
      "count  38906.000000  \n",
      "mean     -79.889501  \n",
      "std        2.563334  \n",
      "min      -80.088835  \n",
      "25%      -80.005712  \n",
      "50%      -79.975588  \n",
      "75%      -79.933177  \n",
      "max        0.000000  \n"
     ]
    }
   ],
   "source": [
    "print(dpw_sm[\"request_type_name\"].value_counts())\n",
    "print(dpw_sm.describe())"
   ]
  },
  {
   "cell_type": "markdown",
   "id": "03ebdbad",
   "metadata": {},
   "source": [
    "# **Part 3 Predict the high risk requests.**\n",
    "Definition of \"high risk\": \n",
    "1. if the request is reported more than once, meaning that the request might be urgent or has been delayed\n",
    "for some reason. ===> attribute 'num_requests' refers to the number of aggregated requests\n",
    "- num_requests > 1 ===> is_multiple_request = 1\n",
    "- otherwise ===> is_multiple_request = 0\n",
    "2. if the the request didn't close and has been opened for over one month, it is high-risk.\n",
    "- status_name = [\"in progress\",\"open\",\"on hold\"] and open days > 30 ===>  not_close_long_time_request = 1\n",
    "- otherwise ===> not_close_long_time_request = 0"
   ]
  },
  {
   "cell_type": "code",
   "execution_count": 8,
   "id": "c8a92cf7",
   "metadata": {
    "vscode": {
     "languageId": "markdown"
    }
   },
   "outputs": [
    {
     "name": "stdout",
     "output_type": "stream",
     "text": [
      "num_requests > 1 : 537\n",
      "num_requests = 1 : 38553\n",
      "Percentage of multiple requests: 1.37%\n"
     ]
    },
    {
     "data": {
      "text/plain": [
       "request_type_name\n",
       "Potholes                    151\n",
       "Overgrowth                  136\n",
       "Snow/Ice removal             75\n",
       "Litter, Public Property      45\n",
       "Tree Fallen Across Road      30\n",
       "Street Cleaning/Sweeping     20\n",
       "Drainage/Leak                19\n",
       "Leaves/Street Cleaning       16\n",
       "City Steps, Need Cleared     10\n",
       "Litter Can, Public            7\n",
       "Name: count, dtype: int64"
      ]
     },
     "execution_count": 8,
     "metadata": {},
     "output_type": "execute_result"
    }
   ],
   "source": [
    "# feature exploration and engineering\n",
    "# 1. repeat requests or not\n",
    "# assume num_requests >1 as the sign of upgraded or high risk request\n",
    "# num_requests: the 3-1-1 system clusters some requests about the same problem (for instance, the same pothole) together. The number of requests in the group is reflected in the num_requests field.\n",
    "\n",
    "# calculate the number of num_requests ==1 and >1\n",
    "num_gt1 = len(dpw_sm[dpw_sm['num_requests'] > 1])\n",
    "num_eq1 = len(dpw_sm[dpw_sm['num_requests'] == 1])\n",
    "\n",
    "print(f\"num_requests > 1 : {num_gt1}\")\n",
    "print(f\"num_requests = 1 : {num_eq1}\")\n",
    "\n",
    "# Create a copy and New target label: \"is_multiple_request\"\n",
    "dpw_sm_part3 = dpw_sm.copy()\n",
    "dpw_sm_part3['is_multiple_request'] = (dpw_sm_part3['num_requests'] > 1).astype(int)\n",
    "print(f\"Percentage of multiple requests:{num_gt1/(num_gt1+num_eq1)*100: .2f}%\")\n",
    "\n",
    "# Look at the type distribution of multiple requests\n",
    "multiple_requests = dpw_sm_part3[dpw_sm_part3['is_multiple_request'] == 1]\n",
    "multiple_requests['request_type_name'].value_counts().head(10)"
   ]
  },
  {
   "cell_type": "code",
   "execution_count": 9,
   "id": "6ef9417c",
   "metadata": {
    "vscode": {
     "languageId": "markdown"
    }
   },
   "outputs": [
    {
     "name": "stdout",
     "output_type": "stream",
     "text": [
      "status_name\n",
      "closed         37111\n",
      "in progress     1187\n",
      "open             782\n",
      "on hold           10\n",
      "Name: count, dtype: int64\n"
     ]
    },
    {
     "data": {
      "text/plain": [
       "request_type_name\n",
       "Litter, Public Property     489\n",
       "Potholes                    349\n",
       "Street Cleaning/Sweeping    162\n",
       "Litter Can, Public          147\n",
       "Overgrowth                  122\n",
       "Drainage/Leak               112\n",
       "Public Right of Way          89\n",
       "Barricades                   81\n",
       "Snow/Ice removal             67\n",
       "Trail Maintenance            59\n",
       "Name: count, dtype: int64"
      ]
     },
     "execution_count": 9,
     "metadata": {},
     "output_type": "execute_result"
    }
   ],
   "source": [
    "# 2. closed requests or not\n",
    "# if the the request didn't close and has been opened over 4 months, it is high-risk.\n",
    "print(dpw_sm_part3[\"status_name\"].value_counts())\n",
    "not_close = dpw_sm_part3[dpw_sm_part3[\"status_name\"].isin([\"in progress\",\"open\",\"on hold\"])].copy()\n",
    "not_close[\"request_type_name\"].value_counts().head(10)"
   ]
  },
  {
   "cell_type": "code",
   "execution_count": 10,
   "id": "d286ea6c",
   "metadata": {
    "vscode": {
     "languageId": "markdown"
    }
   },
   "outputs": [
    {
     "data": {
      "image/png": "[encoded data removed]",
      "text/plain": [
       "<Figure size 1200x600 with 1 Axes>"
      ]
     },
     "metadata": {},
     "output_type": "display_data"
    }
   ],
   "source": [
    "# see the month distribution of not close requests and decided to exclude the cases within 30 days of the high risk label\n",
    "not_close['create_date_et'] = pd.to_datetime(not_close['create_date_et'])\n",
    "not_close['create_year']=not_close['create_date_et'].dt.year\n",
    "not_close['create_month']=not_close['create_date_et'].dt.month\n",
    "monthly_counts = not_close.groupby(['create_year', 'create_month'])['num_requests'].count().reset_index()\n",
    "\n",
    "plt.figure(figsize=(12, 6))\n",
    "plt.bar(monthly_counts['create_year'].astype(str) + '-' + monthly_counts['create_month'].astype(str).str.zfill(2), monthly_counts['num_requests'])\n",
    "plt.xlabel('Open date: Year-Month')\n",
    "plt.ylabel(\"Number of requests(not closed)\")\n",
    "plt.xticks(rotation=45)\n",
    "plt.show()"
   ]
  },
  {
   "cell_type": "code",
   "execution_count": 11,
   "id": "d5eeb565",
   "metadata": {
    "vscode": {
     "languageId": "markdown"
    }
   },
   "outputs": [
    {
     "data": {
      "text/html": [
       "<div>\n",
       "<style scoped>\n",
       "    .dataframe tbody tr th:only-of-type {\n",
       "        vertical-align: middle;\n",
       "    }\n",
       "\n",
       "    .dataframe tbody tr th {\n",
       "        vertical-align: top;\n",
       "    }\n",
       "\n",
       "    .dataframe thead th {\n",
       "        text-align: right;\n",
       "    }\n",
       "</style>\n",
       "<table border=\"1\" class=\"dataframe\">\n",
       "  <thead>\n",
       "    <tr style=\"text-align: right;\">\n",
       "      <th></th>\n",
       "      <th>_id</th>\n",
       "      <th>group_id</th>\n",
       "      <th>num_requests</th>\n",
       "      <th>parent_closed</th>\n",
       "      <th>status_name</th>\n",
       "      <th>status_code</th>\n",
       "      <th>dept</th>\n",
       "      <th>request_type_name</th>\n",
       "      <th>request_type_id</th>\n",
       "      <th>create_date_et</th>\n",
       "      <th>...</th>\n",
       "      <th>council_district</th>\n",
       "      <th>ward</th>\n",
       "      <th>police_zone</th>\n",
       "      <th>latitude</th>\n",
       "      <th>longitude</th>\n",
       "      <th>geo_accuracy</th>\n",
       "      <th>date</th>\n",
       "      <th>is_multiple_request</th>\n",
       "      <th>days_open</th>\n",
       "      <th>not_close_long_time_request</th>\n",
       "    </tr>\n",
       "  </thead>\n",
       "  <tbody>\n",
       "    <tr>\n",
       "      <th>55</th>\n",
       "      <td>65</td>\n",
       "      <td>755693</td>\n",
       "      <td>1</td>\n",
       "      <td>f</td>\n",
       "      <td>in progress</td>\n",
       "      <td>3</td>\n",
       "      <td>DPW - Street Maintenance</td>\n",
       "      <td>Litter, Public Property</td>\n",
       "      <td>831</td>\n",
       "      <td>2023-07-08 11:38:00</td>\n",
       "      <td>...</td>\n",
       "      <td>NaN</td>\n",
       "      <td>NaN</td>\n",
       "      <td>NaN</td>\n",
       "      <td>NaN</td>\n",
       "      <td>NaN</td>\n",
       "      <td>NULL_COORDINATES</td>\n",
       "      <td>2023-07-08</td>\n",
       "      <td>0</td>\n",
       "      <td>577</td>\n",
       "      <td>1</td>\n",
       "    </tr>\n",
       "    <tr>\n",
       "      <th>74</th>\n",
       "      <td>86</td>\n",
       "      <td>880597</td>\n",
       "      <td>1</td>\n",
       "      <td>t</td>\n",
       "      <td>closed</td>\n",
       "      <td>1</td>\n",
       "      <td>DPW - Street Maintenance</td>\n",
       "      <td>Trail Maintenance</td>\n",
       "      <td>541</td>\n",
       "      <td>2024-08-28 08:23:00</td>\n",
       "      <td>...</td>\n",
       "      <td>NaN</td>\n",
       "      <td>NaN</td>\n",
       "      <td>NaN</td>\n",
       "      <td>NaN</td>\n",
       "      <td>NaN</td>\n",
       "      <td>NULL_COORDINATES</td>\n",
       "      <td>2024-08-28</td>\n",
       "      <td>0</td>\n",
       "      <td>160</td>\n",
       "      <td>0</td>\n",
       "    </tr>\n",
       "    <tr>\n",
       "      <th>147</th>\n",
       "      <td>177</td>\n",
       "      <td>882900</td>\n",
       "      <td>1</td>\n",
       "      <td>t</td>\n",
       "      <td>closed</td>\n",
       "      <td>1</td>\n",
       "      <td>DPW - Street Maintenance</td>\n",
       "      <td>Street Cleaning/Sweeping</td>\n",
       "      <td>317</td>\n",
       "      <td>2024-09-05 09:41:00</td>\n",
       "      <td>...</td>\n",
       "      <td>NaN</td>\n",
       "      <td>NaN</td>\n",
       "      <td>NaN</td>\n",
       "      <td>NaN</td>\n",
       "      <td>NaN</td>\n",
       "      <td>NULL_COORDINATES</td>\n",
       "      <td>2024-09-05</td>\n",
       "      <td>0</td>\n",
       "      <td>152</td>\n",
       "      <td>0</td>\n",
       "    </tr>\n",
       "    <tr>\n",
       "      <th>380</th>\n",
       "      <td>454</td>\n",
       "      <td>873480</td>\n",
       "      <td>1</td>\n",
       "      <td>t</td>\n",
       "      <td>closed</td>\n",
       "      <td>1</td>\n",
       "      <td>DPW - Street Maintenance</td>\n",
       "      <td>Trail Maintenance</td>\n",
       "      <td>541</td>\n",
       "      <td>2024-08-06 11:35:00</td>\n",
       "      <td>...</td>\n",
       "      <td>NaN</td>\n",
       "      <td>NaN</td>\n",
       "      <td>NaN</td>\n",
       "      <td>NaN</td>\n",
       "      <td>NaN</td>\n",
       "      <td>NULL_COORDINATES</td>\n",
       "      <td>2024-08-06</td>\n",
       "      <td>0</td>\n",
       "      <td>182</td>\n",
       "      <td>0</td>\n",
       "    </tr>\n",
       "    <tr>\n",
       "      <th>560</th>\n",
       "      <td>669</td>\n",
       "      <td>738943</td>\n",
       "      <td>1</td>\n",
       "      <td>f</td>\n",
       "      <td>open</td>\n",
       "      <td>0</td>\n",
       "      <td>DPW - Street Maintenance</td>\n",
       "      <td>Litter, Public Property</td>\n",
       "      <td>831</td>\n",
       "      <td>2023-05-22 10:12:00</td>\n",
       "      <td>...</td>\n",
       "      <td>6.0</td>\n",
       "      <td>NaN</td>\n",
       "      <td>NaN</td>\n",
       "      <td>40.446306</td>\n",
       "      <td>-80.027041</td>\n",
       "      <td>EXACT</td>\n",
       "      <td>2023-05-22</td>\n",
       "      <td>0</td>\n",
       "      <td>624</td>\n",
       "      <td>1</td>\n",
       "    </tr>\n",
       "  </tbody>\n",
       "</table>\n",
       "<p>5 rows × 33 columns</p>\n",
       "</div>"
      ],
      "text/plain": [
       "     _id  group_id  num_requests parent_closed  status_name  status_code  \\\n",
       "55    65    755693             1             f  in progress            3   \n",
       "74    86    880597             1             t       closed            1   \n",
       "147  177    882900             1             t       closed            1   \n",
       "380  454    873480             1             t       closed            1   \n",
       "560  669    738943             1             f         open            0   \n",
       "\n",
       "                         dept         request_type_name  request_type_id  \\\n",
       "55   DPW - Street Maintenance   Litter, Public Property              831   \n",
       "74   DPW - Street Maintenance         Trail Maintenance              541   \n",
       "147  DPW - Street Maintenance  Street Cleaning/Sweeping              317   \n",
       "380  DPW - Street Maintenance         Trail Maintenance              541   \n",
       "560  DPW - Street Maintenance   Litter, Public Property              831   \n",
       "\n",
       "         create_date_et  ... council_district ward police_zone   latitude  \\\n",
       "55  2023-07-08 11:38:00  ...              NaN  NaN         NaN        NaN   \n",
       "74  2024-08-28 08:23:00  ...              NaN  NaN         NaN        NaN   \n",
       "147 2024-09-05 09:41:00  ...              NaN  NaN         NaN        NaN   \n",
       "380 2024-08-06 11:35:00  ...              NaN  NaN         NaN        NaN   \n",
       "560 2023-05-22 10:12:00  ...              6.0  NaN         NaN  40.446306   \n",
       "\n",
       "     longitude      geo_accuracy        date is_multiple_request  days_open  \\\n",
       "55         NaN  NULL_COORDINATES  2023-07-08                   0        577   \n",
       "74         NaN  NULL_COORDINATES  2024-08-28                   0        160   \n",
       "147        NaN  NULL_COORDINATES  2024-09-05                   0        152   \n",
       "380        NaN  NULL_COORDINATES  2024-08-06                   0        182   \n",
       "560 -80.027041             EXACT  2023-05-22                   0        624   \n",
       "\n",
       "     not_close_long_time_request  \n",
       "55                             1  \n",
       "74                             0  \n",
       "147                            0  \n",
       "380                            0  \n",
       "560                            1  \n",
       "\n",
       "[5 rows x 33 columns]"
      ]
     },
     "execution_count": 11,
     "metadata": {},
     "output_type": "execute_result"
    }
   ],
   "source": [
    "# create the new target label: not_close_long_time_request long_time ==> more than 30 days\n",
    "dpw_sm_part3['create_date_et'] = pd.to_datetime(dpw_sm_part3['create_date_et'])\n",
    "current_date = dpw_sm_part3['create_date_et'].max()\n",
    "dpw_sm_part3['days_open'] = (current_date - dpw_sm_part3['create_date_et']).dt.days\n",
    "filtered_requests = dpw_sm_part3[\n",
    "    (dpw_sm_part3['status_name'] != 'closed') & (dpw_sm_part3['days_open']> 30)\n",
    "]\n",
    "dpw_sm_part3['not_close_long_time_request'] = 0  # 初始化为 0\n",
    "dpw_sm_part3.loc[filtered_requests.index, 'not_close_long_time_request'] = 1\n",
    "dpw_sm_part3.head()"
   ]
  },
  {
   "cell_type": "code",
   "execution_count": 12,
   "id": "d2b0438e",
   "metadata": {
    "vscode": {
     "languageId": "markdown"
    }
   },
   "outputs": [
    {
     "name": "stdout",
     "output_type": "stream",
     "text": [
      "1692\n",
      "Percentage of 'not_close_long_time_request': 4.33%\n"
     ]
    }
   ],
   "source": [
    "count_1 = dpw_sm_part3['not_close_long_time_request'].sum()\n",
    "print(count_1)\n",
    "print(f\"Percentage of 'not_close_long_time_request': {(count_1/len(dpw_sm_part3))*100:.2f}%\")"
   ]
  },
  {
   "cell_type": "code",
   "execution_count": 13,
   "id": "71501bef",
   "metadata": {
    "vscode": {
     "languageId": "markdown"
    }
   },
   "outputs": [],
   "source": [
    "# high risk label defined as above\n",
    "dpw_sm_part3['high_risk'] = (\n",
    "    (dpw_sm_part3['is_multiple_request'] == 1) |\n",
    "    (dpw_sm_part3['not_close_long_time_request'] == 1)\n",
    ").astype(int)\n"
   ]
  },
  {
   "cell_type": "code",
   "execution_count": 14,
   "id": "d31dbfeb",
   "metadata": {
    "vscode": {
     "languageId": "markdown"
    }
   },
   "outputs": [],
   "source": [
    "# extract create month and create one new categorical feature 'create_month'\n",
    "dpw_sm_part3['create_month'] = dpw_sm_part3['create_date_et'].dt.month\n",
    "# create 'is_weekend' feature\n",
    "dpw_sm_part3['is_weekend'] = dpw_sm_part3['create_date_et'].dt.dayofweek.isin([5, 6]).astype(int)\n",
    "\n",
    "# create 'is_working_hours' feature\n",
    "dpw_sm_part3['is_working_hours'] = (\n",
    "    (dpw_sm_part3['create_date_et'].dt.hour >= 9) & (dpw_sm_part3['create_date_et'].dt.hour < 17)\n",
    ").astype(int)"
   ]
  },
  {
   "cell_type": "code",
   "execution_count": 15,
   "id": "d5e88558",
   "metadata": {
    "vscode": {
     "languageId": "markdown"
    }
   },
   "outputs": [
    {
     "data": {
      "text/html": [
       "<div>\n",
       "<style scoped>\n",
       "    .dataframe tbody tr th:only-of-type {\n",
       "        vertical-align: middle;\n",
       "    }\n",
       "\n",
       "    .dataframe tbody tr th {\n",
       "        vertical-align: top;\n",
       "    }\n",
       "\n",
       "    .dataframe thead th {\n",
       "        text-align: right;\n",
       "    }\n",
       "</style>\n",
       "<table border=\"1\" class=\"dataframe\">\n",
       "  <thead>\n",
       "    <tr style=\"text-align: right;\">\n",
       "      <th></th>\n",
       "      <th>_id</th>\n",
       "      <th>group_id</th>\n",
       "      <th>num_requests</th>\n",
       "      <th>parent_closed</th>\n",
       "      <th>status_name</th>\n",
       "      <th>status_code</th>\n",
       "      <th>dept</th>\n",
       "      <th>request_type_name</th>\n",
       "      <th>request_type_id</th>\n",
       "      <th>create_date_et</th>\n",
       "      <th>...</th>\n",
       "      <th>longitude</th>\n",
       "      <th>geo_accuracy</th>\n",
       "      <th>date</th>\n",
       "      <th>is_multiple_request</th>\n",
       "      <th>days_open</th>\n",
       "      <th>not_close_long_time_request</th>\n",
       "      <th>high_risk</th>\n",
       "      <th>create_month</th>\n",
       "      <th>is_weekend</th>\n",
       "      <th>is_working_hours</th>\n",
       "    </tr>\n",
       "  </thead>\n",
       "  <tbody>\n",
       "    <tr>\n",
       "      <th>55</th>\n",
       "      <td>65</td>\n",
       "      <td>755693</td>\n",
       "      <td>1</td>\n",
       "      <td>f</td>\n",
       "      <td>in progress</td>\n",
       "      <td>3</td>\n",
       "      <td>DPW - Street Maintenance</td>\n",
       "      <td>Litter, Public Property</td>\n",
       "      <td>831</td>\n",
       "      <td>2023-07-08 11:38:00</td>\n",
       "      <td>...</td>\n",
       "      <td>NaN</td>\n",
       "      <td>NULL_COORDINATES</td>\n",
       "      <td>2023-07-08</td>\n",
       "      <td>0</td>\n",
       "      <td>577</td>\n",
       "      <td>1</td>\n",
       "      <td>1</td>\n",
       "      <td>7</td>\n",
       "      <td>1</td>\n",
       "      <td>1</td>\n",
       "    </tr>\n",
       "    <tr>\n",
       "      <th>74</th>\n",
       "      <td>86</td>\n",
       "      <td>880597</td>\n",
       "      <td>1</td>\n",
       "      <td>t</td>\n",
       "      <td>closed</td>\n",
       "      <td>1</td>\n",
       "      <td>DPW - Street Maintenance</td>\n",
       "      <td>Trail Maintenance</td>\n",
       "      <td>541</td>\n",
       "      <td>2024-08-28 08:23:00</td>\n",
       "      <td>...</td>\n",
       "      <td>NaN</td>\n",
       "      <td>NULL_COORDINATES</td>\n",
       "      <td>2024-08-28</td>\n",
       "      <td>0</td>\n",
       "      <td>160</td>\n",
       "      <td>0</td>\n",
       "      <td>0</td>\n",
       "      <td>8</td>\n",
       "      <td>0</td>\n",
       "      <td>0</td>\n",
       "    </tr>\n",
       "    <tr>\n",
       "      <th>147</th>\n",
       "      <td>177</td>\n",
       "      <td>882900</td>\n",
       "      <td>1</td>\n",
       "      <td>t</td>\n",
       "      <td>closed</td>\n",
       "      <td>1</td>\n",
       "      <td>DPW - Street Maintenance</td>\n",
       "      <td>Street Cleaning/Sweeping</td>\n",
       "      <td>317</td>\n",
       "      <td>2024-09-05 09:41:00</td>\n",
       "      <td>...</td>\n",
       "      <td>NaN</td>\n",
       "      <td>NULL_COORDINATES</td>\n",
       "      <td>2024-09-05</td>\n",
       "      <td>0</td>\n",
       "      <td>152</td>\n",
       "      <td>0</td>\n",
       "      <td>0</td>\n",
       "      <td>9</td>\n",
       "      <td>0</td>\n",
       "      <td>1</td>\n",
       "    </tr>\n",
       "    <tr>\n",
       "      <th>380</th>\n",
       "      <td>454</td>\n",
       "      <td>873480</td>\n",
       "      <td>1</td>\n",
       "      <td>t</td>\n",
       "      <td>closed</td>\n",
       "      <td>1</td>\n",
       "      <td>DPW - Street Maintenance</td>\n",
       "      <td>Trail Maintenance</td>\n",
       "      <td>541</td>\n",
       "      <td>2024-08-06 11:35:00</td>\n",
       "      <td>...</td>\n",
       "      <td>NaN</td>\n",
       "      <td>NULL_COORDINATES</td>\n",
       "      <td>2024-08-06</td>\n",
       "      <td>0</td>\n",
       "      <td>182</td>\n",
       "      <td>0</td>\n",
       "      <td>0</td>\n",
       "      <td>8</td>\n",
       "      <td>0</td>\n",
       "      <td>1</td>\n",
       "    </tr>\n",
       "    <tr>\n",
       "      <th>560</th>\n",
       "      <td>669</td>\n",
       "      <td>738943</td>\n",
       "      <td>1</td>\n",
       "      <td>f</td>\n",
       "      <td>open</td>\n",
       "      <td>0</td>\n",
       "      <td>DPW - Street Maintenance</td>\n",
       "      <td>Litter, Public Property</td>\n",
       "      <td>831</td>\n",
       "      <td>2023-05-22 10:12:00</td>\n",
       "      <td>...</td>\n",
       "      <td>-80.027041</td>\n",
       "      <td>EXACT</td>\n",
       "      <td>2023-05-22</td>\n",
       "      <td>0</td>\n",
       "      <td>624</td>\n",
       "      <td>1</td>\n",
       "      <td>1</td>\n",
       "      <td>5</td>\n",
       "      <td>0</td>\n",
       "      <td>1</td>\n",
       "    </tr>\n",
       "  </tbody>\n",
       "</table>\n",
       "<p>5 rows × 37 columns</p>\n",
       "</div>"
      ],
      "text/plain": [
       "     _id  group_id  num_requests parent_closed  status_name  status_code  \\\n",
       "55    65    755693             1             f  in progress            3   \n",
       "74    86    880597             1             t       closed            1   \n",
       "147  177    882900             1             t       closed            1   \n",
       "380  454    873480             1             t       closed            1   \n",
       "560  669    738943             1             f         open            0   \n",
       "\n",
       "                         dept         request_type_name  request_type_id  \\\n",
       "55   DPW - Street Maintenance   Litter, Public Property              831   \n",
       "74   DPW - Street Maintenance         Trail Maintenance              541   \n",
       "147  DPW - Street Maintenance  Street Cleaning/Sweeping              317   \n",
       "380  DPW - Street Maintenance         Trail Maintenance              541   \n",
       "560  DPW - Street Maintenance   Litter, Public Property              831   \n",
       "\n",
       "         create_date_et  ...  longitude      geo_accuracy        date  \\\n",
       "55  2023-07-08 11:38:00  ...        NaN  NULL_COORDINATES  2023-07-08   \n",
       "74  2024-08-28 08:23:00  ...        NaN  NULL_COORDINATES  2024-08-28   \n",
       "147 2024-09-05 09:41:00  ...        NaN  NULL_COORDINATES  2024-09-05   \n",
       "380 2024-08-06 11:35:00  ...        NaN  NULL_COORDINATES  2024-08-06   \n",
       "560 2023-05-22 10:12:00  ... -80.027041             EXACT  2023-05-22   \n",
       "\n",
       "    is_multiple_request days_open not_close_long_time_request high_risk  \\\n",
       "55                    0       577                           1         1   \n",
       "74                    0       160                           0         0   \n",
       "147                   0       152                           0         0   \n",
       "380                   0       182                           0         0   \n",
       "560                   0       624                           1         1   \n",
       "\n",
       "    create_month  is_weekend  is_working_hours  \n",
       "55             7           1                 1  \n",
       "74             8           0                 0  \n",
       "147            9           0                 1  \n",
       "380            8           0                 1  \n",
       "560            5           0                 1  \n",
       "\n",
       "[5 rows x 37 columns]"
      ]
     },
     "execution_count": 15,
     "metadata": {},
     "output_type": "execute_result"
    }
   ],
   "source": [
    "dpw_sm_part3.head()"
   ]
  },
  {
   "cell_type": "code",
   "execution_count": 16,
   "id": "7e8a19b0",
   "metadata": {
    "vscode": {
     "languageId": "markdown"
    }
   },
   "outputs": [
    {
     "data": {
      "text/plain": [
       "count         38593\n",
       "unique           91\n",
       "top       Brookline\n",
       "freq           2019\n",
       "Name: neighborhood, dtype: object"
      ]
     },
     "execution_count": 16,
     "metadata": {},
     "output_type": "execute_result"
    }
   ],
   "source": [
    "dpw_sm_part3['neighborhood'].describe()"
   ]
  },
  {
   "cell_type": "code",
   "execution_count": 17,
   "id": "5873fcbb",
   "metadata": {
    "vscode": {
     "languageId": "markdown"
    }
   },
   "outputs": [
    {
     "name": "stderr",
     "output_type": "stream",
     "text": [
      "C:\\Users\\joranY\\AppData\\Local\\Temp\\ipykernel_12692\\3262690716.py:12: DeprecationWarning: DataFrameGroupBy.apply operated on the grouping columns. This behavior is deprecated, and in a future version of pandas the grouping columns will be excluded from the operation. Either pass `include_groups=False` to exclude the groupings or explicitly select the grouping columns after groupby to silence this warning.\n",
      "  .apply(lambda g: g.set_index('date')\n"
     ]
    },
    {
     "name": "stdout",
     "output_type": "stream",
     "text": [
      "       neighborhood       date  daily_request_count  requests_last_week  \\\n",
      "0  Allegheny Center 2022-04-02                    1                 1.0   \n",
      "1  Allegheny Center 2022-04-20                    1                 1.0   \n",
      "2  Allegheny Center 2022-04-24                    1                 2.0   \n",
      "3  Allegheny Center 2022-05-10                    1                 1.0   \n",
      "4  Allegheny Center 2022-05-13                    1                 2.0   \n",
      "\n",
      "   requests_last_3_days  \n",
      "0                   1.0  \n",
      "1                   1.0  \n",
      "2                   1.0  \n",
      "3                   1.0  \n",
      "4                   1.0  \n"
     ]
    },
    {
     "name": "stderr",
     "output_type": "stream",
     "text": [
      "C:\\Users\\joranY\\AppData\\Local\\Temp\\ipykernel_12692\\3262690716.py:20: DeprecationWarning: DataFrameGroupBy.apply operated on the grouping columns. This behavior is deprecated, and in a future version of pandas the grouping columns will be excluded from the operation. Either pass `include_groups=False` to exclude the groupings or explicitly select the grouping columns after groupby to silence this warning.\n",
      "  .apply(lambda g: g.set_index('date')\n"
     ]
    }
   ],
   "source": [
    "dpw_sm_part3['date'] = pd.to_datetime(dpw_sm_part3['date'])\n",
    "daily_counts = (\n",
    "    dpw_sm_part3\n",
    "    .groupby(['neighborhood', 'date'])\n",
    "    .size()\n",
    "    .reset_index(name='daily_request_count')\n",
    ")\n",
    "daily_counts = daily_counts.sort_values(by=['neighborhood', 'date'])\n",
    "daily_counts['requests_last_week'] = (\n",
    "    daily_counts\n",
    "    .groupby('neighborhood', group_keys=False)\n",
    "    .apply(lambda g: g.set_index('date')\n",
    "                     .rolling('7D')['daily_request_count']\n",
    "                     .sum())\n",
    "    .reset_index(level=0, drop=True)\n",
    ")\n",
    "daily_counts['requests_last_3_days'] = (\n",
    "    daily_counts\n",
    "    .groupby('neighborhood', group_keys=False)\n",
    "    .apply(lambda g: g.set_index('date')\n",
    "                     .rolling('3D')['daily_request_count']\n",
    "                     .sum())\n",
    "    .reset_index(level=0, drop=True)\n",
    ")\n",
    "print(daily_counts.head())"
   ]
  },
  {
   "cell_type": "code",
   "execution_count": 18,
   "id": "8260b3dd",
   "metadata": {
    "vscode": {
     "languageId": "markdown"
    }
   },
   "outputs": [
    {
     "name": "stdout",
     "output_type": "stream",
     "text": [
      "       neighborhood       date  daily_request_count  requests_last_week  \\\n",
      "0  Allegheny Center 2022-04-02                    1                 1.0   \n",
      "1  Allegheny Center 2022-04-20                    1                 1.0   \n",
      "2  Allegheny Center 2022-04-24                    1                 2.0   \n",
      "3  Allegheny Center 2022-05-10                    1                 1.0   \n",
      "4  Allegheny Center 2022-05-13                    1                 2.0   \n",
      "\n",
      "   requests_last_3_days  \n",
      "0                   1.0  \n",
      "1                   1.0  \n",
      "2                   1.0  \n",
      "3                   1.0  \n",
      "4                   1.0  \n"
     ]
    }
   ],
   "source": [
    "print(daily_counts.head())"
   ]
  },
  {
   "cell_type": "code",
   "execution_count": 19,
   "id": "dccbb964",
   "metadata": {
    "vscode": {
     "languageId": "markdown"
    }
   },
   "outputs": [],
   "source": [
    "dpw_sm_part3['date'] = pd.to_datetime(dpw_sm_part3['date']).dt.date\n",
    "daily_counts['date'] = pd.to_datetime(daily_counts['date']).dt.date"
   ]
  },
  {
   "cell_type": "code",
   "execution_count": 20,
   "id": "311f1dbb",
   "metadata": {
    "vscode": {
     "languageId": "markdown"
    }
   },
   "outputs": [
    {
     "name": "stdout",
     "output_type": "stream",
     "text": [
      "39090\n"
     ]
    }
   ],
   "source": [
    "dpw_sm_part3 = dpw_sm_part3.merge(\n",
    "    daily_counts[['neighborhood', 'date', 'requests_last_week', 'requests_last_3_days']],\n",
    "    on=['neighborhood', 'date'],\n",
    "    how='left'\n",
    ")\n",
    "print(len(dpw_sm_part3))"
   ]
  },
  {
   "cell_type": "code",
   "execution_count": 21,
   "id": "48eae19d",
   "metadata": {
    "vscode": {
     "languageId": "markdown"
    }
   },
   "outputs": [
    {
     "data": {
      "text/html": [
       "<div>\n",
       "<style scoped>\n",
       "    .dataframe tbody tr th:only-of-type {\n",
       "        vertical-align: middle;\n",
       "    }\n",
       "\n",
       "    .dataframe tbody tr th {\n",
       "        vertical-align: top;\n",
       "    }\n",
       "\n",
       "    .dataframe thead th {\n",
       "        text-align: right;\n",
       "    }\n",
       "</style>\n",
       "<table border=\"1\" class=\"dataframe\">\n",
       "  <thead>\n",
       "    <tr style=\"text-align: right;\">\n",
       "      <th></th>\n",
       "      <th>_id</th>\n",
       "      <th>group_id</th>\n",
       "      <th>num_requests</th>\n",
       "      <th>parent_closed</th>\n",
       "      <th>status_name</th>\n",
       "      <th>status_code</th>\n",
       "      <th>dept</th>\n",
       "      <th>request_type_name</th>\n",
       "      <th>request_type_id</th>\n",
       "      <th>create_date_et</th>\n",
       "      <th>...</th>\n",
       "      <th>date</th>\n",
       "      <th>is_multiple_request</th>\n",
       "      <th>days_open</th>\n",
       "      <th>not_close_long_time_request</th>\n",
       "      <th>high_risk</th>\n",
       "      <th>create_month</th>\n",
       "      <th>is_weekend</th>\n",
       "      <th>is_working_hours</th>\n",
       "      <th>requests_last_week</th>\n",
       "      <th>requests_last_3_days</th>\n",
       "    </tr>\n",
       "  </thead>\n",
       "  <tbody>\n",
       "    <tr>\n",
       "      <th>0</th>\n",
       "      <td>65</td>\n",
       "      <td>755693</td>\n",
       "      <td>1</td>\n",
       "      <td>f</td>\n",
       "      <td>in progress</td>\n",
       "      <td>3</td>\n",
       "      <td>DPW - Street Maintenance</td>\n",
       "      <td>Litter, Public Property</td>\n",
       "      <td>831</td>\n",
       "      <td>2023-07-08 11:38:00</td>\n",
       "      <td>...</td>\n",
       "      <td>2023-07-08</td>\n",
       "      <td>0</td>\n",
       "      <td>577</td>\n",
       "      <td>1</td>\n",
       "      <td>1</td>\n",
       "      <td>7</td>\n",
       "      <td>1</td>\n",
       "      <td>1</td>\n",
       "      <td>NaN</td>\n",
       "      <td>NaN</td>\n",
       "    </tr>\n",
       "    <tr>\n",
       "      <th>1</th>\n",
       "      <td>86</td>\n",
       "      <td>880597</td>\n",
       "      <td>1</td>\n",
       "      <td>t</td>\n",
       "      <td>closed</td>\n",
       "      <td>1</td>\n",
       "      <td>DPW - Street Maintenance</td>\n",
       "      <td>Trail Maintenance</td>\n",
       "      <td>541</td>\n",
       "      <td>2024-08-28 08:23:00</td>\n",
       "      <td>...</td>\n",
       "      <td>2024-08-28</td>\n",
       "      <td>0</td>\n",
       "      <td>160</td>\n",
       "      <td>0</td>\n",
       "      <td>0</td>\n",
       "      <td>8</td>\n",
       "      <td>0</td>\n",
       "      <td>0</td>\n",
       "      <td>NaN</td>\n",
       "      <td>NaN</td>\n",
       "    </tr>\n",
       "    <tr>\n",
       "      <th>2</th>\n",
       "      <td>177</td>\n",
       "      <td>882900</td>\n",
       "      <td>1</td>\n",
       "      <td>t</td>\n",
       "      <td>closed</td>\n",
       "      <td>1</td>\n",
       "      <td>DPW - Street Maintenance</td>\n",
       "      <td>Street Cleaning/Sweeping</td>\n",
       "      <td>317</td>\n",
       "      <td>2024-09-05 09:41:00</td>\n",
       "      <td>...</td>\n",
       "      <td>2024-09-05</td>\n",
       "      <td>0</td>\n",
       "      <td>152</td>\n",
       "      <td>0</td>\n",
       "      <td>0</td>\n",
       "      <td>9</td>\n",
       "      <td>0</td>\n",
       "      <td>1</td>\n",
       "      <td>NaN</td>\n",
       "      <td>NaN</td>\n",
       "    </tr>\n",
       "    <tr>\n",
       "      <th>3</th>\n",
       "      <td>454</td>\n",
       "      <td>873480</td>\n",
       "      <td>1</td>\n",
       "      <td>t</td>\n",
       "      <td>closed</td>\n",
       "      <td>1</td>\n",
       "      <td>DPW - Street Maintenance</td>\n",
       "      <td>Trail Maintenance</td>\n",
       "      <td>541</td>\n",
       "      <td>2024-08-06 11:35:00</td>\n",
       "      <td>...</td>\n",
       "      <td>2024-08-06</td>\n",
       "      <td>0</td>\n",
       "      <td>182</td>\n",
       "      <td>0</td>\n",
       "      <td>0</td>\n",
       "      <td>8</td>\n",
       "      <td>0</td>\n",
       "      <td>1</td>\n",
       "      <td>NaN</td>\n",
       "      <td>NaN</td>\n",
       "    </tr>\n",
       "    <tr>\n",
       "      <th>4</th>\n",
       "      <td>669</td>\n",
       "      <td>738943</td>\n",
       "      <td>1</td>\n",
       "      <td>f</td>\n",
       "      <td>open</td>\n",
       "      <td>0</td>\n",
       "      <td>DPW - Street Maintenance</td>\n",
       "      <td>Litter, Public Property</td>\n",
       "      <td>831</td>\n",
       "      <td>2023-05-22 10:12:00</td>\n",
       "      <td>...</td>\n",
       "      <td>2023-05-22</td>\n",
       "      <td>0</td>\n",
       "      <td>624</td>\n",
       "      <td>1</td>\n",
       "      <td>1</td>\n",
       "      <td>5</td>\n",
       "      <td>0</td>\n",
       "      <td>1</td>\n",
       "      <td>NaN</td>\n",
       "      <td>NaN</td>\n",
       "    </tr>\n",
       "  </tbody>\n",
       "</table>\n",
       "<p>5 rows × 39 columns</p>\n",
       "</div>"
      ],
      "text/plain": [
       "   _id  group_id  num_requests parent_closed  status_name  status_code  \\\n",
       "0   65    755693             1             f  in progress            3   \n",
       "1   86    880597             1             t       closed            1   \n",
       "2  177    882900             1             t       closed            1   \n",
       "3  454    873480             1             t       closed            1   \n",
       "4  669    738943             1             f         open            0   \n",
       "\n",
       "                       dept         request_type_name  request_type_id  \\\n",
       "0  DPW - Street Maintenance   Litter, Public Property              831   \n",
       "1  DPW - Street Maintenance         Trail Maintenance              541   \n",
       "2  DPW - Street Maintenance  Street Cleaning/Sweeping              317   \n",
       "3  DPW - Street Maintenance         Trail Maintenance              541   \n",
       "4  DPW - Street Maintenance   Litter, Public Property              831   \n",
       "\n",
       "       create_date_et  ...        date is_multiple_request days_open  \\\n",
       "0 2023-07-08 11:38:00  ...  2023-07-08                   0       577   \n",
       "1 2024-08-28 08:23:00  ...  2024-08-28                   0       160   \n",
       "2 2024-09-05 09:41:00  ...  2024-09-05                   0       152   \n",
       "3 2024-08-06 11:35:00  ...  2024-08-06                   0       182   \n",
       "4 2023-05-22 10:12:00  ...  2023-05-22                   0       624   \n",
       "\n",
       "  not_close_long_time_request high_risk create_month is_weekend  \\\n",
       "0                           1         1            7          1   \n",
       "1                           0         0            8          0   \n",
       "2                           0         0            9          0   \n",
       "3                           0         0            8          0   \n",
       "4                           1         1            5          0   \n",
       "\n",
       "  is_working_hours  requests_last_week  requests_last_3_days  \n",
       "0                1                 NaN                   NaN  \n",
       "1                0                 NaN                   NaN  \n",
       "2                1                 NaN                   NaN  \n",
       "3                1                 NaN                   NaN  \n",
       "4                1                 NaN                   NaN  \n",
       "\n",
       "[5 rows x 39 columns]"
      ]
     },
     "execution_count": 21,
     "metadata": {},
     "output_type": "execute_result"
    }
   ],
   "source": [
    "dpw_sm_part3.head()"
   ]
  },
  {
   "cell_type": "code",
   "execution_count": 22,
   "id": "9fe81188",
   "metadata": {
    "vscode": {
     "languageId": "markdown"
    }
   },
   "outputs": [
    {
     "name": "stdout",
     "output_type": "stream",
     "text": [
      "_merge\n",
      "both          38593\n",
      "left_only       497\n",
      "right_only        0\n",
      "Name: count, dtype: int64\n"
     ]
    }
   ],
   "source": [
    "merged_check = dpw_sm_part3.merge(\n",
    "    daily_counts,\n",
    "    on=['neighborhood', 'date'],\n",
    "    how='left',\n",
    "    indicator=True\n",
    ")\n",
    "print(merged_check['_merge'].value_counts())"
   ]
  },
  {
   "cell_type": "code",
   "execution_count": null,
   "id": "ee59153f",
   "metadata": {
    "vscode": {
     "languageId": "markdown"
    }
   },
   "outputs": [],
   "source": [
    "weather = pd.read_csv('/data/processed/weather_data.csv')\n",
    "weather['date'] = pd.to_datetime(weather['DATE']).dt.normalize()  \n",
    "dpw_sm_part3['date'] = pd.to_datetime(dpw_sm_part3['date']).dt.normalize()\n",
    "merged = dpw_sm_part3.merge(weather, on='date', how='left')\n"
   ]
  },
  {
   "cell_type": "code",
   "execution_count": 24,
   "id": "e40a77d4",
   "metadata": {
    "vscode": {
     "languageId": "markdown"
    }
   },
   "outputs": [
    {
     "data": {
      "text/plain": [
       "Index(['_id', 'group_id', 'num_requests', 'parent_closed', 'status_name',\n",
       "       'status_code', 'dept', 'request_type_name', 'request_type_id',\n",
       "       'create_date_et', 'create_date_utc', 'last_action_et',\n",
       "       'last_action_utc', 'closed_date_et', 'closed_date_utc', 'origin',\n",
       "       'street', 'cross_street', 'street_id', 'cross_street_id', 'city',\n",
       "       'neighborhood', 'census_tract', 'council_district', 'ward',\n",
       "       'police_zone', 'latitude', 'longitude', 'geo_accuracy', 'date',\n",
       "       'is_multiple_request', 'days_open', 'not_close_long_time_request',\n",
       "       'high_risk', 'create_month', 'is_weekend', 'is_working_hours',\n",
       "       'requests_last_week', 'requests_last_3_days', 'STATION', 'NAME', 'DATE',\n",
       "       'AWND', 'PRCP', 'SNOW', 'SNWD', 'TAVG', 'TMAX', 'TMIN', 'WDF2', 'WDF5',\n",
       "       'WSF2', 'WSF5'],\n",
       "      dtype='object')"
      ]
     },
     "execution_count": 24,
     "metadata": {},
     "output_type": "execute_result"
    }
   ],
   "source": [
    "merged.columns"
   ]
  },
  {
   "cell_type": "markdown",
   "id": "67eadeb4",
   "metadata": {},
   "source": [
    "*Model Training*\n",
    "classify a specific request is high-risk or not"
   ]
  },
  {
   "cell_type": "code",
   "execution_count": 25,
   "id": "5e637ee2",
   "metadata": {
    "vscode": {
     "languageId": "markdown"
    }
   },
   "outputs": [],
   "source": [
    "categorical_features = ['request_type_name', 'create_month', 'neighborhood', 'police_zone', 'council_district', 'ward'] \n",
    "numerical_features = ['is_weekend', 'is_working_hours','TAVG','PRCP','SNOW','AWND','requests_last_week',\n",
    "       'requests_last_3_days'] # TAVG- temperature, PRCP- precipitation, SNOW- snow, AWND- wind\n",
    "\n",
    "# impute and encode for categorical features\n",
    "to_str = FunctionTransformer(lambda x: x.astype(str), validate=False)\n",
    "categorical_transformer = Pipeline(steps=[\n",
    "    ('to_str', to_str),\n",
    "    ('imputer', SimpleImputer(strategy='constant', fill_value='missing')),  # 替换 NaN\n",
    "    ('onehot', OneHotEncoder(sparse_output=False, handle_unknown='ignore'))\n",
    "])\n",
    "numerical_transformer = Pipeline(steps=[\n",
    "    ('imputer', SimpleImputer(strategy='constant',fill_value=0)),\n",
    "    ('scaler', StandardScaler())\n",
    "])\n",
    "preprocessor = ColumnTransformer(\n",
    "    transformers=[\n",
    "        ('num', numerical_transformer, numerical_features),  \n",
    "        ('cat', categorical_transformer, categorical_features) \n",
    "    ])"
   ]
  },
  {
   "cell_type": "code",
   "execution_count": 26,
   "id": "153ba2ed",
   "metadata": {
    "vscode": {
     "languageId": "markdown"
    }
   },
   "outputs": [],
   "source": [
    "X = merged[categorical_features + numerical_features]\n",
    "y = merged[\"high_risk\"]\n",
    "X_train, X_test, y_train, y_test = train_test_split(X, y, stratify=y, test_size=0.2, random_state=42)\n",
    "\n",
    "X_train_processed = preprocessor.fit_transform(X_train)\n",
    "X_test_processed = preprocessor.transform(X_test)\n",
    "\n",
    "smote_tomek = SMOTETomek(random_state=42)\n",
    "X_train_resampled, y_train_resampled = smote_tomek.fit_resample(X_train_processed, y_train)\n",
    "\n"
   ]
  },
  {
   "cell_type": "markdown",
   "id": "004beb32",
   "metadata": {},
   "source": [
    "Model 0: random guess"
   ]
  },
  {
   "cell_type": "code",
   "execution_count": 27,
   "id": "7e05d98a",
   "metadata": {
    "vscode": {
     "languageId": "markdown"
    }
   },
   "outputs": [
    {
     "name": "stdout",
     "output_type": "stream",
     "text": [
      "Random baseline performance (based on training distribution):\n",
      "              precision    recall  f1-score   support\n",
      "\n",
      "           0       0.94      0.94      0.94      7377\n",
      "           1       0.06      0.06      0.06       441\n",
      "\n",
      "    accuracy                           0.89      7818\n",
      "   macro avg       0.50      0.50      0.50      7818\n",
      "weighted avg       0.89      0.89      0.89      7818\n",
      "\n",
      "Confusion matrix:\n",
      " [[6956  421]\n",
      " [ 416   25]]\n",
      "AUC: 0.4810496065942531\n"
     ]
    }
   ],
   "source": [
    "pos_prob = np.mean(y_train)\n",
    "np.random.seed(42)\n",
    "y_pred = np.random.choice([0, 1], size=len(y_test), p=[1 - pos_prob, pos_prob])\n",
    "y_prob = np.random.uniform(low=0.0, high=1.0, size=len(y_test)) \n",
    "print(\"Random baseline performance (based on training distribution):\")\n",
    "print(classification_report(y_test, y_pred))\n",
    "print(\"Confusion matrix:\\n\", confusion_matrix(y_test, y_pred))\n",
    "print(\"AUC:\", roc_auc_score(y_test, y_prob))"
   ]
  },
  {
   "cell_type": "code",
   "execution_count": 28,
   "id": "c01ba937",
   "metadata": {
    "vscode": {
     "languageId": "markdown"
    }
   },
   "outputs": [],
   "source": [
    "models=[]\n",
    "precision_scores = []\n",
    "recall_scores = []\n",
    "f1_scores = []"
   ]
  },
  {
   "cell_type": "code",
   "execution_count": 29,
   "id": "b5e14604",
   "metadata": {
    "vscode": {
     "languageId": "markdown"
    }
   },
   "outputs": [],
   "source": [
    "models.append(\"Baseline\")\n",
    "precision_scores.append(precision_score(y_test,y_pred))\n",
    "recall_scores.append(recall_score(y_test,y_pred))\n",
    "f1_scores.append(f1_score(y_test,y_pred))\n"
   ]
  },
  {
   "cell_type": "markdown",
   "id": "2b946798",
   "metadata": {},
   "source": [
    "Model 1: logistic regression"
   ]
  },
  {
   "cell_type": "code",
   "execution_count": 30,
   "id": "02757f5f",
   "metadata": {
    "vscode": {
     "languageId": "markdown"
    }
   },
   "outputs": [],
   "source": [
    "param_grid = {\n",
    "    'C': [0.01, 0.1, 1, 10],  \n",
    "    'penalty': ['l1', 'l2'],  \n",
    "    'solver': ['liblinear'],  \n",
    "}\n",
    "\n",
    "grid_search = GridSearchCV(LogisticRegression(class_weight='balanced', max_iter=1000), \n",
    "                           param_grid, \n",
    "                           scoring='f1', \n",
    "                           cv=5)\n",
    "grid_search.fit(X_train_resampled, y_train_resampled)\n",
    "\n",
    "best_model = grid_search.best_estimator_\n"
   ]
  },
  {
   "cell_type": "code",
   "execution_count": 31,
   "id": "b77ef0f6",
   "metadata": {
    "vscode": {
     "languageId": "markdown"
    }
   },
   "outputs": [],
   "source": [
    "best_model.fit(X_train_resampled, y_train_resampled)\n",
    "y_prob = best_model.predict_proba(X_test_processed)[:, 1]"
   ]
  },
  {
   "cell_type": "code",
   "execution_count": 32,
   "id": "5379dbc5",
   "metadata": {
    "vscode": {
     "languageId": "markdown"
    }
   },
   "outputs": [
    {
     "name": "stdout",
     "output_type": "stream",
     "text": [
      "Best threshold: 0.740, Best F1: 0.206\n"
     ]
    }
   ],
   "source": [
    "precision, recall, thresholds = precision_recall_curve(y_test, y_prob)\n",
    "f1 = 2 * (precision * recall) / (precision + recall + 1e-6)\n",
    "best_idx = f1.argmax()\n",
    "best_threshold = thresholds[best_idx]\n",
    "best_f1 = f1[best_idx]\n",
    "\n",
    "print(f\"Best threshold: {best_threshold:.3f}, Best F1: {best_f1:.3f}\")"
   ]
  },
  {
   "cell_type": "code",
   "execution_count": 33,
   "id": "6d3ae8b3",
   "metadata": {
    "vscode": {
     "languageId": "markdown"
    }
   },
   "outputs": [
    {
     "name": "stdout",
     "output_type": "stream",
     "text": [
      "AUC: 0.6900215691536206\n",
      "              precision    recall  f1-score   support\n",
      "\n",
      "           0       0.95      0.94      0.95      7377\n",
      "           1       0.19      0.22      0.21       441\n",
      "\n",
      "    accuracy                           0.90      7818\n",
      "   macro avg       0.57      0.58      0.58      7818\n",
      "weighted avg       0.91      0.90      0.91      7818\n",
      "\n",
      "Confusion matrix:\n",
      " [[6957  420]\n",
      " [ 342   99]]\n"
     ]
    }
   ],
   "source": [
    "threshold = 0.74 \n",
    "y_pred_adjusted = (y_prob >= threshold).astype(int)\n",
    "print(\"AUC:\", roc_auc_score(y_test, y_prob))\n",
    "print(classification_report(y_test, y_pred_adjusted))\n",
    "print(\"Confusion matrix:\\n\", confusion_matrix(y_test, y_pred_adjusted))"
   ]
  },
  {
   "cell_type": "code",
   "execution_count": 34,
   "id": "c786a156",
   "metadata": {
    "vscode": {
     "languageId": "markdown"
    }
   },
   "outputs": [],
   "source": [
    "models.append(\"Logistic\")\n",
    "precision_scores.append(precision_score(y_test,y_pred_adjusted))\n",
    "recall_scores.append(recall_score(y_test,y_pred_adjusted))\n",
    "f1_scores.append(f1_score(y_test,y_pred_adjusted))\n"
   ]
  },
  {
   "cell_type": "markdown",
   "id": "8bd791a1",
   "metadata": {},
   "source": [
    "*Model 2 LightLGB*"
   ]
  },
  {
   "cell_type": "code",
   "execution_count": 36,
   "id": "5b183749",
   "metadata": {
    "vscode": {
     "languageId": "markdown"
    }
   },
   "outputs": [
    {
     "name": "stdout",
     "output_type": "stream",
     "text": [
      "Fitting 3 folds for each of 20 candidates, totalling 60 fits\n",
      "[LightGBM] [Info] Number of positive: 29495, number of negative: 29495\n",
      "[LightGBM] [Info] Auto-choosing row-wise multi-threading, the overhead of testing was 0.177245 seconds.\n",
      "You can set `force_row_wise=true` to remove the overhead.\n",
      "And if memory is not enough, you can set `force_col_wise=true`.\n",
      "[LightGBM] [Info] Total Bins 33059\n",
      "[LightGBM] [Info] Number of data points in the train set: 58990, number of used features: 192\n",
      "[LightGBM] [Info] [binary:BoostFromScore]: pavg=0.500000 -> initscore=0.000000\n",
      "Best parameters found: {'subsample': 1.0, 'num_leaves': 31, 'n_estimators': 500, 'max_depth': -1, 'learning_rate': 0.1, 'colsample_bytree': 0.8}\n",
      "Best F1 Score from CV: 0.9687523923336224\n"
     ]
    }
   ],
   "source": [
    "lgb = LGBMClassifier(random_state=42, class_weight='balanced')\n",
    "param_dist = {\n",
    "    'num_leaves': [15, 31, 63],\n",
    "    'max_depth': [3, 5, 7, -1],\n",
    "    'learning_rate': [0.01, 0.05, 0.1],\n",
    "    'n_estimators': [100, 200, 500],\n",
    "    'subsample': [0.6, 0.8, 1.0],\n",
    "    'colsample_bytree': [0.6, 0.8, 1.0]\n",
    "}\n",
    "\n",
    "random_search = RandomizedSearchCV(\n",
    "    estimator=lgb,\n",
    "    param_distributions=param_dist,\n",
    "    n_iter=20,              # 搜索次数\n",
    "    scoring='f1',           # 根据 f1-score 优化\n",
    "    cv=3,                   # 3折交叉验证\n",
    "    verbose=1,\n",
    "    random_state=42,\n",
    "    n_jobs=-1\n",
    ")\n",
    "random_search.fit(X_train_resampled, y_train_resampled)\n",
    "\n",
    "print(\"Best parameters found:\", random_search.best_params_)\n",
    "print(\"Best F1 Score from CV:\", random_search.best_score_)\n"
   ]
  },
  {
   "cell_type": "code",
   "execution_count": 37,
   "id": "775f4767",
   "metadata": {
    "vscode": {
     "languageId": "markdown"
    }
   },
   "outputs": [],
   "source": [
    "best_lgb = random_search.best_estimator_\n",
    "y_prob = best_lgb.predict_proba(X_test_processed)[:, 1]"
   ]
  },
  {
   "cell_type": "code",
   "execution_count": 38,
   "id": "10d70c2e",
   "metadata": {
    "vscode": {
     "languageId": "markdown"
    }
   },
   "outputs": [
    {
     "name": "stdout",
     "output_type": "stream",
     "text": [
      "Best threshold: 0.202, Best F1: 0.289\n"
     ]
    }
   ],
   "source": [
    "precision, recall, thresholds = precision_recall_curve(y_test, y_prob)\n",
    "f1 = 2 * (precision * recall) / (precision + recall + 1e-6)\n",
    "best_idx = f1.argmax()\n",
    "best_threshold = thresholds[best_idx]\n",
    "best_f1 = f1[best_idx]\n",
    "\n",
    "print(f\"Best threshold: {best_threshold:.3f}, Best F1: {best_f1:.3f}\")"
   ]
  },
  {
   "cell_type": "code",
   "execution_count": 39,
   "id": "eeb04698",
   "metadata": {
    "vscode": {
     "languageId": "markdown"
    }
   },
   "outputs": [
    {
     "name": "stdout",
     "output_type": "stream",
     "text": [
      "AUC: 0.7299470960947751\n",
      "              precision    recall  f1-score   support\n",
      "\n",
      "           0       0.96      0.97      0.96      7377\n",
      "           1       0.32      0.26      0.29       441\n",
      "\n",
      "    accuracy                           0.93      7818\n",
      "   macro avg       0.64      0.61      0.62      7818\n",
      "weighted avg       0.92      0.93      0.92      7818\n",
      "\n",
      "Confusion matrix:\n",
      " [[7130  247]\n",
      " [ 325  116]]\n"
     ]
    }
   ],
   "source": [
    "threshold = best_threshold\n",
    "y_pred_adjusted = (y_prob >= threshold).astype(int)\n",
    "print(\"AUC:\", roc_auc_score(y_test, y_prob))\n",
    "print(classification_report(y_test, y_pred_adjusted))\n",
    "print(\"Confusion matrix:\\n\", confusion_matrix(y_test, y_pred_adjusted))"
   ]
  },
  {
   "cell_type": "code",
   "execution_count": 40,
   "id": "4f24ba2d",
   "metadata": {
    "vscode": {
     "languageId": "markdown"
    }
   },
   "outputs": [],
   "source": [
    "models.append(\"Light GBM\")\n",
    "precision_scores.append(precision_score(y_test,y_pred_adjusted))\n",
    "recall_scores.append(recall_score(y_test,y_pred_adjusted))\n",
    "f1_scores.append(f1_score(y_test,y_pred_adjusted))"
   ]
  },
  {
   "cell_type": "markdown",
   "id": "dabd833e",
   "metadata": {},
   "source": [
    "*Model 3 XGBoost*"
   ]
  },
  {
   "cell_type": "code",
   "execution_count": 41,
   "id": "0c362d6e",
   "metadata": {
    "vscode": {
     "languageId": "markdown"
    }
   },
   "outputs": [],
   "source": [
    "param_grid = {\n",
    "    'n_estimators': [100, 200, 500],\n",
    "    'max_depth': [3, 5, 7],\n",
    "    'learning_rate': [0.01, 0.1, 0.2],\n",
    "    'subsample': [0.8, 1.0],\n",
    "    'colsample_bytree': [0.8, 1.0]\n",
    "}\n"
   ]
  },
  {
   "cell_type": "code",
   "execution_count": 43,
   "id": "be1220c5",
   "metadata": {
    "vscode": {
     "languageId": "markdown"
    }
   },
   "outputs": [
    {
     "name": "stdout",
     "output_type": "stream",
     "text": [
      "Fitting 3 folds for each of 10 candidates, totalling 30 fits\n",
      "Best parameters found: {'subsample': 1.0, 'n_estimators': 500, 'max_depth': 5, 'learning_rate': 0.1, 'colsample_bytree': 1.0}\n",
      "Best F1 Score from CV: 0.963975368838509\n"
     ]
    }
   ],
   "source": [
    "scale_pos_weight = (y_train_resampled == 0).sum() / (y_train_resampled == 1).sum()\n",
    "\n",
    "xgb_model = XGBClassifier(\n",
    "    eval_metric='logloss',\n",
    "    scale_pos_weight=scale_pos_weight,\n",
    "    random_state=42,\n",
    "    n_jobs=-1\n",
    ")\n",
    "random_search = RandomizedSearchCV(\n",
    "    estimator=xgb_model,\n",
    "    param_distributions=param_grid,\n",
    "    n_iter=10,\n",
    "    scoring=make_scorer(f1_score),\n",
    "    cv=3,\n",
    "    verbose=1,\n",
    "    random_state=42\n",
    ")\n",
    "random_search.fit(X_train_resampled, y_train_resampled)\n",
    "print(\"Best parameters found:\", random_search.best_params_)\n",
    "print(\"Best F1 Score from CV:\", random_search.best_score_)"
   ]
  },
  {
   "cell_type": "code",
   "execution_count": 44,
   "id": "3e41f09e",
   "metadata": {
    "vscode": {
     "languageId": "markdown"
    }
   },
   "outputs": [],
   "source": [
    "best_xgb = random_search.best_estimator_\n",
    "y_prob = best_xgb.predict_proba(X_test_processed)[:, 1]"
   ]
  },
  {
   "cell_type": "code",
   "execution_count": 45,
   "id": "6f47d047",
   "metadata": {
    "vscode": {
     "languageId": "markdown"
    }
   },
   "outputs": [
    {
     "name": "stdout",
     "output_type": "stream",
     "text": [
      "Best threshold: 0.260, Best F1: 0.263\n"
     ]
    }
   ],
   "source": [
    "precision, recall, thresholds = precision_recall_curve(y_test, y_prob)\n",
    "f1 = 2 * (precision * recall) / (precision + recall + 1e-6)\n",
    "best_idx = f1.argmax()\n",
    "best_threshold = thresholds[best_idx]\n",
    "best_f1 = f1[best_idx]\n",
    "\n",
    "print(f\"Best threshold: {best_threshold:.3f}, Best F1: {best_f1:.3f}\")"
   ]
  },
  {
   "cell_type": "code",
   "execution_count": 46,
   "id": "bbaa9c41",
   "metadata": {
    "vscode": {
     "languageId": "markdown"
    }
   },
   "outputs": [
    {
     "name": "stdout",
     "output_type": "stream",
     "text": [
      "AUC: 0.7215069390460084\n",
      "              precision    recall  f1-score   support\n",
      "\n",
      "           0       0.95      0.98      0.97      7377\n",
      "           1       0.36      0.21      0.26       441\n",
      "\n",
      "    accuracy                           0.93      7818\n",
      "   macro avg       0.66      0.59      0.61      7818\n",
      "weighted avg       0.92      0.93      0.93      7818\n",
      "\n",
      "Confusion matrix:\n",
      " [[7217  160]\n",
      " [ 350   91]]\n"
     ]
    }
   ],
   "source": [
    "threshold = best_threshold\n",
    "y_pred_adjusted = (y_prob >= threshold).astype(int)\n",
    "print(\"AUC:\", roc_auc_score(y_test, y_prob))\n",
    "print(classification_report(y_test, y_pred_adjusted))\n",
    "print(\"Confusion matrix:\\n\", confusion_matrix(y_test, y_pred_adjusted))"
   ]
  },
  {
   "cell_type": "code",
   "execution_count": 47,
   "id": "efa074ef",
   "metadata": {
    "vscode": {
     "languageId": "markdown"
    }
   },
   "outputs": [],
   "source": [
    "models.append(\"XGBoost\")\n",
    "precision_scores.append(precision_score(y_test,y_pred_adjusted))\n",
    "recall_scores.append(recall_score(y_test,y_pred_adjusted))\n",
    "f1_scores.append(f1_score(y_test,y_pred_adjusted))"
   ]
  },
  {
   "cell_type": "markdown",
   "id": "cebaa639",
   "metadata": {},
   "source": [
    "*Model Metrics*"
   ]
  },
  {
   "cell_type": "code",
   "execution_count": 49,
   "id": "5d6702a6",
   "metadata": {
    "vscode": {
     "languageId": "markdown"
    }
   },
   "outputs": [
    {
     "data": {
      "image/png": "[encoded data removed]",
      "text/plain": [
       "<Figure size 640x480 with 1 Axes>"
      ]
     },
     "metadata": {},
     "output_type": "display_data"
    }
   ],
   "source": [
    "#  use lgb as the final model \n",
    "y_prob = best_lgb.predict_proba(X_test_processed)[:, 1]\n",
    "precision, recall, thresholds = precision_recall_curve(y_test, y_prob)\n",
    "plt.plot(thresholds, precision[:-1], label='Precision')\n",
    "plt.plot(thresholds, recall[:-1], label='Recall')\n",
    "plt.xlabel(\"Threshold\")\n",
    "plt.legend()\n",
    "plt.title(\"Precision and Recall vs Threshold\")\n",
    "plt.grid()\n",
    "plt.show()"
   ]
  },
  {
   "cell_type": "code",
   "execution_count": 50,
   "id": "60114dbd",
   "metadata": {
    "vscode": {
     "languageId": "markdown"
    }
   },
   "outputs": [
    {
     "data": {
      "image/png": "[encoded data removed]",
      "text/plain": [
       "<Figure size 1000x600 with 1 Axes>"
      ]
     },
     "metadata": {},
     "output_type": "display_data"
    }
   ],
   "source": [
    "# draw the metricx \n",
    "x = np.arange(len(models))  # 模型数\n",
    "width = 0.25  # 每组柱子的宽度\n",
    "\n",
    "fig, ax = plt.subplots(figsize=(10, 6))\n",
    "ax.bar(x - width, precision_scores, width, label='Precision')\n",
    "ax.bar(x, recall_scores, width, label='Recall')\n",
    "ax.bar(x + width, f1_scores, width, label='F1 Score')\n",
    "\n",
    "# 设置图表格式\n",
    "ax.set_ylabel('Score')\n",
    "ax.set_title('Model Comparison: Precision, Recall, F1 Score')\n",
    "ax.set_xticks(x)\n",
    "ax.set_xticklabels(models)\n",
    "ax.set_ylim(0, 1)\n",
    "ax.legend()\n",
    "\n",
    "plt.tight_layout()\n",
    "plt.show()"
   ]
  },
  {
   "cell_type": "markdown",
   "id": "4d9a8f1d",
   "metadata": {},
   "source": [
    "Real-time Request Risk Classification (Classification)\n",
    "- at specific time and neighborhood, will it have high risk requests of specific category or not"
   ]
  },
  {
   "cell_type": "code",
   "execution_count": 51,
   "id": "0f58a028",
   "metadata": {
    "vscode": {
     "languageId": "markdown"
    }
   },
   "outputs": [
    {
     "data": {
      "text/plain": [
       "Index(['_id', 'group_id', 'num_requests', 'parent_closed', 'status_name',\n",
       "       'status_code', 'dept', 'request_type_name', 'request_type_id',\n",
       "       'create_date_et', 'create_date_utc', 'last_action_et',\n",
       "       'last_action_utc', 'closed_date_et', 'closed_date_utc', 'origin',\n",
       "       'street', 'cross_street', 'street_id', 'cross_street_id', 'city',\n",
       "       'neighborhood', 'census_tract', 'council_district', 'ward',\n",
       "       'police_zone', 'latitude', 'longitude', 'geo_accuracy', 'date',\n",
       "       'is_multiple_request', 'days_open', 'not_close_long_time_request',\n",
       "       'high_risk', 'create_month', 'is_weekend', 'is_working_hours',\n",
       "       'requests_last_week', 'requests_last_3_days'],\n",
       "      dtype='object')"
      ]
     },
     "execution_count": 51,
     "metadata": {},
     "output_type": "execute_result"
    }
   ],
   "source": [
    "dpw_sm_part3.columns"
   ]
  },
  {
   "cell_type": "code",
   "execution_count": 52,
   "id": "0caa2ecb",
   "metadata": {
    "vscode": {
     "languageId": "markdown"
    }
   },
   "outputs": [],
   "source": [
    "\n",
    "# aggregate by week, neighborhood and type\n",
    "dpw_sm_part3['year_week'] = dpw_sm_part3['date'].dt.to_period('W').astype(str)\n",
    "\n",
    "agg_df = (\n",
    "    dpw_sm_part3\n",
    "    .groupby(['year_week', 'neighborhood', 'request_type_name'])\n",
    "    .agg(\n",
    "        high_risk_count=('high_risk', 'sum'),\n",
    "        total_request=('high_risk', 'count')\n",
    "    )\n",
    "    .reset_index()\n",
    ")\n",
    "\n",
    "agg_df['label'] = (agg_df['high_risk_count'] > 0).astype(int)"
   ]
  },
  {
   "cell_type": "code",
   "execution_count": 53,
   "id": "1ad7aa6c",
   "metadata": {
    "vscode": {
     "languageId": "markdown"
    }
   },
   "outputs": [
    {
     "name": "stdout",
     "output_type": "stream",
     "text": [
      "       high_risk_count  total_request         label\n",
      "count     21279.000000   21279.000000  21279.000000\n",
      "mean          0.094365       1.813666      0.084402\n",
      "std           0.337418       3.036206      0.277997\n",
      "min           0.000000       1.000000      0.000000\n",
      "25%           0.000000       1.000000      0.000000\n",
      "50%           0.000000       1.000000      0.000000\n",
      "75%           0.000000       2.000000      0.000000\n",
      "max           6.000000     118.000000      1.000000\n",
      "               year_week      neighborhood            request_type_name  \\\n",
      "0  2022-03-28/2022-04-03  Allegheny Center      Litter, Public Property   \n",
      "1  2022-03-28/2022-04-03         Arlington      Litter, Public Property   \n",
      "2  2022-03-28/2022-04-03        Banksville                     Potholes   \n",
      "3  2022-03-28/2022-04-03         Beechview                     Potholes   \n",
      "4  2022-03-28/2022-04-03         Beechview  Tree Fallen Across Sidewalk   \n",
      "\n",
      "   high_risk_count  total_request  label  \n",
      "0                0              1      0  \n",
      "1                0              1      0  \n",
      "2                0              1      0  \n",
      "3                0              1      0  \n",
      "4                0              1      0  \n"
     ]
    }
   ],
   "source": [
    "print(agg_df.describe())\n",
    "print(agg_df.head())"
   ]
  },
  {
   "cell_type": "code",
   "execution_count": null,
   "id": "c552d40d",
   "metadata": {
    "vscode": {
     "languageId": "markdown"
    }
   },
   "outputs": [],
   "source": [
    "<!-- # construct all combinations of date, neighboor and request type, as those missing records are negative samples\n",
    "weeks = dpw_sm_part3['year_week'].unique()\n",
    "valid_combinations = dpw_sm_part3[['neighborhood', 'request_type_name']].dropna().drop_duplicates()\n",
    "\n",
    "neighborhoods = valid_combinations['neighborhood'].unique()\n",
    "request_types = valid_combinations['request_type_name'].unique()\n",
    "\n",
    "index = pd.MultiIndex.from_product(\n",
    "    [weeks, neighborhoods, request_types],\n",
    "    names=['year_week', 'neighborhood', 'request_type_name']\n",
    ")\n",
    "\n",
    "agg_df_indexed = agg_df.set_index(['year_week', 'neighborhood', 'request_type_name'])\n",
    "\n",
    "full_df = agg_df_indexed.reindex(index).reset_index()\n",
    "\n",
    "full_df['label'] = full_df['label'].fillna(0).astype(int)\n",
    "full_df['high_risk_count'] = full_df['high_risk_count'].fillna(0).astype(int)\n",
    "full_df['total_request'] = full_df['total_request'].fillna(0).astype(int) -->"
   ]
  },
  {
   "cell_type": "code",
   "execution_count": 54,
   "id": "9f1dcb6f",
   "metadata": {
    "vscode": {
     "languageId": "markdown"
    }
   },
   "outputs": [],
   "source": [
    "# time feature\n",
    "agg_df['week_start'] = pd.to_datetime(agg_df['year_week'].str.slice(0, 10))\n",
    "agg_df['week_number'] = agg_df['week_start'].dt.isocalendar().week\n",
    "agg_df['month'] = agg_df['week_start'].dt.month\n",
    "\n",
    "season_map = {\n",
    "    12: 'Winter', 1: 'Winter', 2: 'Winter',\n",
    "    3: 'Spring', 4: 'Spring', 5: 'Spring',\n",
    "    6: 'Summer', 7: 'Summer', 8: 'Summer',\n",
    "    9: 'Fall', 10: 'Fall', 11: 'Fall'\n",
    "}\n",
    "agg_df['season'] = agg_df['month'].map(season_map)\n",
    "\n",
    "agg_df['is_summer_break'] = agg_df['month'].isin([6, 7, 8]).astype(int)\n",
    "agg_df['is_winter_break'] = agg_df['month'].isin([12, 1]).astype(int)"
   ]
  },
  {
   "cell_type": "code",
   "execution_count": 55,
   "id": "001bdc3b",
   "metadata": {
    "vscode": {
     "languageId": "markdown"
    }
   },
   "outputs": [],
   "source": [
    "# historical data\n",
    "agg_df.sort_values(by=['neighborhood', 'request_type_name', 'week_start'], inplace=True)\n",
    "agg_df['request_last_1week'] = (\n",
    "    agg_df\n",
    "    .groupby(['neighborhood', 'request_type_name'])['total_request']\n",
    "    .shift(1)\n",
    "    .fillna(0)\n",
    ")\n",
    "\n",
    "agg_df['request_last_3week'] = (\n",
    "    agg_df\n",
    "    .groupby(['neighborhood', 'request_type_name'])['total_request']\n",
    "    .rolling(window=3, min_periods=1)\n",
    "    .sum()\n",
    "    .shift(1)\n",
    "    .reset_index(level=[0,1], drop=True)\n",
    "    .fillna(0)\n",
    ")"
   ]
  },
  {
   "cell_type": "code",
   "execution_count": 57,
   "id": "01134e28",
   "metadata": {
    "vscode": {
     "languageId": "markdown"
    }
   },
   "outputs": [
    {
     "name": "stdout",
     "output_type": "stream",
     "text": [
      "       high_risk_count  total_request         label  \\\n",
      "count     21279.000000   21279.000000  21279.000000   \n",
      "mean          0.094365       1.813666      0.084402   \n",
      "min           0.000000       1.000000      0.000000   \n",
      "25%           0.000000       1.000000      0.000000   \n",
      "50%           0.000000       1.000000      0.000000   \n",
      "75%           0.000000       2.000000      0.000000   \n",
      "max           6.000000     118.000000      1.000000   \n",
      "std           0.337418       3.036206      0.277997   \n",
      "\n",
      "                          week_start  week_number         month  \\\n",
      "count                          21279      21279.0  21279.000000   \n",
      "mean   2023-08-10 18:19:40.544198144    26.516331      6.526294   \n",
      "min              2022-03-28 00:00:00          1.0      1.000000   \n",
      "25%              2022-10-31 00:00:00         16.0      4.000000   \n",
      "50%              2023-07-24 00:00:00         27.0      7.000000   \n",
      "75%              2024-05-13 00:00:00         37.0      9.000000   \n",
      "max              2025-02-03 00:00:00         52.0     12.000000   \n",
      "std                              NaN    13.879746      3.193342   \n",
      "\n",
      "       is_summer_break  is_winter_break  request_last_1week  \\\n",
      "count     21279.000000     21279.000000        21279.000000   \n",
      "mean          0.324921         0.164246            1.708539   \n",
      "min           0.000000         0.000000            0.000000   \n",
      "25%           0.000000         0.000000            1.000000   \n",
      "50%           0.000000         0.000000            1.000000   \n",
      "75%           1.000000         0.000000            2.000000   \n",
      "max           1.000000         1.000000          118.000000   \n",
      "std           0.468356         0.370508            2.972414   \n",
      "\n",
      "       request_last_3week  \n",
      "count        21279.000000  \n",
      "mean             5.116829  \n",
      "min              0.000000  \n",
      "25%              3.000000  \n",
      "50%              4.000000  \n",
      "75%              5.000000  \n",
      "max            261.000000  \n",
      "std              6.912528  \n"
     ]
    }
   ],
   "source": [
    "print(agg_df.describe())"
   ]
  },
  {
   "cell_type": "code",
   "execution_count": 58,
   "id": "c432a0be",
   "metadata": {
    "vscode": {
     "languageId": "markdown"
    }
   },
   "outputs": [],
   "source": [
    "# weather\n",
    "weather['year_week'] = weather['date'].dt.to_period('W').astype(str)\n",
    "weekly_weather = weather.groupby('year_week').agg({\n",
    "    'TAVG': 'mean',\n",
    "    'PRCP': 'sum',\n",
    "    'SNOW': 'sum',\n",
    "    'AWND': 'mean'\n",
    "}).reset_index()\n",
    "agg_df = agg_df.merge(weekly_weather, on='year_week', how='left')"
   ]
  },
  {
   "cell_type": "code",
   "execution_count": 59,
   "id": "0bdd2e4a",
   "metadata": {
    "vscode": {
     "languageId": "markdown"
    }
   },
   "outputs": [
    {
     "data": {
      "text/html": [
       "<div>\n",
       "<style scoped>\n",
       "    .dataframe tbody tr th:only-of-type {\n",
       "        vertical-align: middle;\n",
       "    }\n",
       "\n",
       "    .dataframe tbody tr th {\n",
       "        vertical-align: top;\n",
       "    }\n",
       "\n",
       "    .dataframe thead th {\n",
       "        text-align: right;\n",
       "    }\n",
       "</style>\n",
       "<table border=\"1\" class=\"dataframe\">\n",
       "  <thead>\n",
       "    <tr style=\"text-align: right;\">\n",
       "      <th></th>\n",
       "      <th>year_week</th>\n",
       "      <th>TAVG</th>\n",
       "      <th>PRCP</th>\n",
       "      <th>SNOW</th>\n",
       "      <th>AWND</th>\n",
       "    </tr>\n",
       "  </thead>\n",
       "  <tbody>\n",
       "    <tr>\n",
       "      <th>0</th>\n",
       "      <td>2021-12-27/2022-01-02</td>\n",
       "      <td>46.500000</td>\n",
       "      <td>0.94</td>\n",
       "      <td>0.0</td>\n",
       "      <td>8.835000</td>\n",
       "    </tr>\n",
       "    <tr>\n",
       "      <th>1</th>\n",
       "      <td>2022-01-03/2022-01-09</td>\n",
       "      <td>26.857143</td>\n",
       "      <td>0.80</td>\n",
       "      <td>2.4</td>\n",
       "      <td>9.810000</td>\n",
       "    </tr>\n",
       "    <tr>\n",
       "      <th>2</th>\n",
       "      <td>2022-01-10/2022-01-16</td>\n",
       "      <td>25.571429</td>\n",
       "      <td>0.34</td>\n",
       "      <td>3.7</td>\n",
       "      <td>9.011429</td>\n",
       "    </tr>\n",
       "    <tr>\n",
       "      <th>3</th>\n",
       "      <td>2022-01-17/2022-01-23</td>\n",
       "      <td>23.142857</td>\n",
       "      <td>0.59</td>\n",
       "      <td>9.7</td>\n",
       "      <td>10.290000</td>\n",
       "    </tr>\n",
       "    <tr>\n",
       "      <th>4</th>\n",
       "      <td>2022-01-24/2022-01-30</td>\n",
       "      <td>17.428571</td>\n",
       "      <td>0.32</td>\n",
       "      <td>3.4</td>\n",
       "      <td>7.030000</td>\n",
       "    </tr>\n",
       "  </tbody>\n",
       "</table>\n",
       "</div>"
      ],
      "text/plain": [
       "               year_week       TAVG  PRCP  SNOW       AWND\n",
       "0  2021-12-27/2022-01-02  46.500000  0.94   0.0   8.835000\n",
       "1  2022-01-03/2022-01-09  26.857143  0.80   2.4   9.810000\n",
       "2  2022-01-10/2022-01-16  25.571429  0.34   3.7   9.011429\n",
       "3  2022-01-17/2022-01-23  23.142857  0.59   9.7  10.290000\n",
       "4  2022-01-24/2022-01-30  17.428571  0.32   3.4   7.030000"
      ]
     },
     "execution_count": 59,
     "metadata": {},
     "output_type": "execute_result"
    }
   ],
   "source": [
    "weekly_weather.head()"
   ]
  },
  {
   "cell_type": "code",
   "execution_count": 60,
   "id": "1656d3f8",
   "metadata": {
    "vscode": {
     "languageId": "markdown"
    }
   },
   "outputs": [
    {
     "name": "stdout",
     "output_type": "stream",
     "text": [
      "               year_week      neighborhood request_type_name  high_risk_count  \\\n",
      "0  2023-05-29/2023-06-04  Allegheny Center        Barricades                0   \n",
      "1  2023-08-07/2023-08-13  Allegheny Center        Barricades                0   \n",
      "2  2023-08-21/2023-08-27  Allegheny Center        Barricades                1   \n",
      "3  2023-12-04/2023-12-10  Allegheny Center        Barricades                0   \n",
      "4  2024-05-27/2024-06-02  Allegheny Center        Barricades                1   \n",
      "\n",
      "   total_request  label week_start  week_number  month  season  \\\n",
      "0              1      0 2023-05-29           22      5  Spring   \n",
      "1              1      0 2023-08-07           32      8  Summer   \n",
      "2              1      1 2023-08-21           34      8  Summer   \n",
      "3              1      0 2023-12-04           49     12  Winter   \n",
      "4              1      1 2024-05-27           22      5  Spring   \n",
      "\n",
      "   is_summer_break  is_winter_break  request_last_1week  request_last_3week  \\\n",
      "0                0                0                 0.0                 0.0   \n",
      "1                1                0                 1.0                 1.0   \n",
      "2                1                0                 1.0                 2.0   \n",
      "3                0                1                 1.0                 3.0   \n",
      "4                0                0                 1.0                 3.0   \n",
      "\n",
      "        TAVG  PRCP  SNOW      AWND  \n",
      "0  73.285714  0.00   0.0  6.454286  \n",
      "1  73.571429  1.51   0.0  7.318571  \n",
      "2  73.142857  0.74   0.0  6.360000  \n",
      "3  43.285714  0.18   0.0  7.382857  \n",
      "4  63.428571  0.45   0.0  6.424286  \n"
     ]
    }
   ],
   "source": [
    "print(agg_df.head())"
   ]
  },
  {
   "cell_type": "code",
   "execution_count": 61,
   "id": "65adcece",
   "metadata": {
    "vscode": {
     "languageId": "markdown"
    }
   },
   "outputs": [],
   "source": [
    "agg_categorical_features = ['season', 'neighborhood', 'request_type_name',]\n",
    "\n",
    "agg_numerical_features = [\n",
    "    'week_number', 'month', 'TAVG', 'PRCP', 'SNOW', 'AWND',\n",
    "    'request_last_1week', 'request_last_3week', 'is_summer_break', \"is_winter_break\"\n",
    "]\n",
    "categorical_transformer = Pipeline(steps=[\n",
    "    ('to_str', to_str),\n",
    "    ('imputer', SimpleImputer(strategy='constant', fill_value='missing')), \n",
    "    ('onehot', OneHotEncoder(sparse_output=False, handle_unknown='ignore'))\n",
    "])\n",
    "preprocessor = ColumnTransformer(transformers=[\n",
    "    ('num', StandardScaler(), agg_numerical_features),\n",
    "    ('cat', categorical_transformer, agg_categorical_features)\n",
    "])"
   ]
  },
  {
   "cell_type": "code",
   "execution_count": 62,
   "id": "264e8ab5",
   "metadata": {
    "vscode": {
     "languageId": "markdown"
    }
   },
   "outputs": [],
   "source": [
    "# Split the training and testing data based on the create_date\n",
    "cutoff = pd.to_datetime(\"2024-04-01\")\n",
    "\n",
    "train_df = agg_df[agg_df['week_start'] < cutoff].copy()\n",
    "test_df = agg_df[agg_df['week_start'] >= cutoff].copy()\n",
    "\n",
    "# downsample\n",
    "X_train = train_df[agg_categorical_features + agg_numerical_features]\n",
    "y_train = train_df['label']\n",
    "\n",
    "X_test = test_df[agg_categorical_features + agg_numerical_features]\n",
    "y_test = test_df['label']\n",
    "\n",
    "# resample\n",
    "X_train_processed = preprocessor.fit_transform(X_train)\n",
    "X_test_processed = preprocessor.transform(X_test)\n",
    "\n",
    "smote = SMOTE(random_state=42)\n",
    "X_resampled, y_resampled = smote.fit_resample(X_train_processed, y_train)"
   ]
  },
  {
   "cell_type": "markdown",
   "id": "e5d3c9d1",
   "metadata": {},
   "source": [
    "Model 0: random guess"
   ]
  },
  {
   "cell_type": "code",
   "execution_count": 63,
   "id": "801fe295",
   "metadata": {
    "vscode": {
     "languageId": "markdown"
    }
   },
   "outputs": [
    {
     "name": "stdout",
     "output_type": "stream",
     "text": [
      "Random baseline performance (based on training distribution):\n",
      "              precision    recall  f1-score   support\n",
      "\n",
      "           0       0.92      0.91      0.92      5857\n",
      "           1       0.08      0.08      0.08       514\n",
      "\n",
      "    accuracy                           0.85      6371\n",
      "   macro avg       0.50      0.50      0.50      6371\n",
      "weighted avg       0.85      0.85      0.85      6371\n",
      "\n",
      "Confusion matrix:\n",
      " [[5356  501]\n",
      " [ 471   43]]\n",
      "AUC: 0.5050865338558604\n"
     ]
    }
   ],
   "source": [
    "pos_prob = np.mean(y_train)\n",
    "np.random.seed(42)\n",
    "y_pred = np.random.choice([0, 1], size=len(y_test), p=[1 - pos_prob, pos_prob])\n",
    "y_prob = np.random.uniform(low=0.0, high=1.0, size=len(y_test)) \n",
    "print(\"Random baseline performance (based on training distribution):\")\n",
    "print(classification_report(y_test, y_pred))\n",
    "print(\"Confusion matrix:\\n\", confusion_matrix(y_test, y_pred))\n",
    "print(\"AUC:\", roc_auc_score(y_test, y_prob))"
   ]
  },
  {
   "cell_type": "code",
   "execution_count": 64,
   "id": "891c3434",
   "metadata": {
    "vscode": {
     "languageId": "markdown"
    }
   },
   "outputs": [],
   "source": [
    "agg_models=[]\n",
    "agg_precision_scores = []\n",
    "agg_recall_scores = []\n",
    "agg_f1_scores = []"
   ]
  },
  {
   "cell_type": "code",
   "execution_count": 65,
   "id": "2a7a6dbf",
   "metadata": {
    "vscode": {
     "languageId": "markdown"
    }
   },
   "outputs": [],
   "source": [
    "agg_models.append(\"Baseline\")\n",
    "agg_precision_scores.append(precision_score(y_test,y_pred))\n",
    "agg_recall_scores.append(recall_score(y_test,y_pred))\n",
    "agg_f1_scores.append(f1_score(y_test,y_pred))"
   ]
  },
  {
   "cell_type": "markdown",
   "id": "14dbe62e",
   "metadata": {},
   "source": [
    "Model 1: logistic"
   ]
  },
  {
   "cell_type": "code",
   "execution_count": 66,
   "id": "2063a232",
   "metadata": {
    "vscode": {
     "languageId": "markdown"
    }
   },
   "outputs": [
    {
     "data": {
      "text/html": [
       "<style>#sk-container-id-1 {\n",
       "  /* Definition of color scheme common for light and dark mode */\n",
       "  --sklearn-color-text: black;\n",
       "  --sklearn-color-line: gray;\n",
       "  /* Definition of color scheme for unfitted estimators */\n",
       "  --sklearn-color-unfitted-level-0: #fff5e6;\n",
       "  --sklearn-color-unfitted-level-1: #f6e4d2;\n",
       "  --sklearn-color-unfitted-level-2: #ffe0b3;\n",
       "  --sklearn-color-unfitted-level-3: chocolate;\n",
       "  /* Definition of color scheme for fitted estimators */\n",
       "  --sklearn-color-fitted-level-0: #f0f8ff;\n",
       "  --sklearn-color-fitted-level-1: #d4ebff;\n",
       "  --sklearn-color-fitted-level-2: #b3dbfd;\n",
       "  --sklearn-color-fitted-level-3: cornflowerblue;\n",
       "\n",
       "  /* Specific color for light theme */\n",
       "  --sklearn-color-text-on-default-background: var(--sg-text-color, var(--theme-code-foreground, var(--jp-content-font-color1, black)));\n",
       "  --sklearn-color-background: var(--sg-background-color, var(--theme-background, var(--jp-layout-color0, white)));\n",
       "  --sklearn-color-border-box: var(--sg-text-color, var(--theme-code-foreground, var(--jp-content-font-color1, black)));\n",
       "  --sklearn-color-icon: #696969;\n",
       "\n",
       "  @media (prefers-color-scheme: dark) {\n",
       "    /* Redefinition of color scheme for dark theme */\n",
       "    --sklearn-color-text-on-default-background: var(--sg-text-color, var(--theme-code-foreground, var(--jp-content-font-color1, white)));\n",
       "    --sklearn-color-background: var(--sg-background-color, var(--theme-background, var(--jp-layout-color0, #111)));\n",
       "    --sklearn-color-border-box: var(--sg-text-color, var(--theme-code-foreground, var(--jp-content-font-color1, white)));\n",
       "    --sklearn-color-icon: #878787;\n",
       "  }\n",
       "}\n",
       "\n",
       "#sk-container-id-1 {\n",
       "  color: var(--sklearn-color-text);\n",
       "}\n",
       "\n",
       "#sk-container-id-1 pre {\n",
       "  padding: 0;\n",
       "}\n",
       "\n",
       "#sk-container-id-1 input.sk-hidden--visually {\n",
       "  border: 0;\n",
       "  clip: rect(1px 1px 1px 1px);\n",
       "  clip: rect(1px, 1px, 1px, 1px);\n",
       "  height: 1px;\n",
       "  margin: -1px;\n",
       "  overflow: hidden;\n",
       "  padding: 0;\n",
       "  position: absolute;\n",
       "  width: 1px;\n",
       "}\n",
       "\n",
       "#sk-container-id-1 div.sk-dashed-wrapped {\n",
       "  border: 1px dashed var(--sklearn-color-line);\n",
       "  margin: 0 0.4em 0.5em 0.4em;\n",
       "  box-sizing: border-box;\n",
       "  padding-bottom: 0.4em;\n",
       "  background-color: var(--sklearn-color-background);\n",
       "}\n",
       "\n",
       "#sk-container-id-1 div.sk-container {\n",
       "  /* jupyter's `normalize.less` sets `[hidden] { display: none; }`\n",
       "     but bootstrap.min.css set `[hidden] { display: none !important; }`\n",
       "     so we also need the `!important` here to be able to override the\n",
       "     default hidden behavior on the sphinx rendered scikit-learn.org.\n",
       "     See: https://github.com/scikit-learn/scikit-learn/issues/21755 */\n",
       "  display: inline-block !important;\n",
       "  position: relative;\n",
       "}\n",
       "\n",
       "#sk-container-id-1 div.sk-text-repr-fallback {\n",
       "  display: none;\n",
       "}\n",
       "\n",
       "div.sk-parallel-item,\n",
       "div.sk-serial,\n",
       "div.sk-item {\n",
       "  /* draw centered vertical line to link estimators */\n",
       "  background-image: linear-gradient(var(--sklearn-color-text-on-default-background), var(--sklearn-color-text-on-default-background));\n",
       "  background-size: 2px 100%;\n",
       "  background-repeat: no-repeat;\n",
       "  background-position: center center;\n",
       "}\n",
       "\n",
       "/* Parallel-specific style estimator block */\n",
       "\n",
       "#sk-container-id-1 div.sk-parallel-item::after {\n",
       "  content: \"\";\n",
       "  width: 100%;\n",
       "  border-bottom: 2px solid var(--sklearn-color-text-on-default-background);\n",
       "  flex-grow: 1;\n",
       "}\n",
       "\n",
       "#sk-container-id-1 div.sk-parallel {\n",
       "  display: flex;\n",
       "  align-items: stretch;\n",
       "  justify-content: center;\n",
       "  background-color: var(--sklearn-color-background);\n",
       "  position: relative;\n",
       "}\n",
       "\n",
       "#sk-container-id-1 div.sk-parallel-item {\n",
       "  display: flex;\n",
       "  flex-direction: column;\n",
       "}\n",
       "\n",
       "#sk-container-id-1 div.sk-parallel-item:first-child::after {\n",
       "  align-self: flex-end;\n",
       "  width: 50%;\n",
       "}\n",
       "\n",
       "#sk-container-id-1 div.sk-parallel-item:last-child::after {\n",
       "  align-self: flex-start;\n",
       "  width: 50%;\n",
       "}\n",
       "\n",
       "#sk-container-id-1 div.sk-parallel-item:only-child::after {\n",
       "  width: 0;\n",
       "}\n",
       "\n",
       "/* Serial-specific style estimator block */\n",
       "\n",
       "#sk-container-id-1 div.sk-serial {\n",
       "  display: flex;\n",
       "  flex-direction: column;\n",
       "  align-items: center;\n",
       "  background-color: var(--sklearn-color-background);\n",
       "  padding-right: 1em;\n",
       "  padding-left: 1em;\n",
       "}\n",
       "\n",
       "\n",
       "/* Toggleable style: style used for estimator/Pipeline/ColumnTransformer box that is\n",
       "clickable and can be expanded/collapsed.\n",
       "- Pipeline and ColumnTransformer use this feature and define the default style\n",
       "- Estimators will overwrite some part of the style using the `sk-estimator` class\n",
       "*/\n",
       "\n",
       "/* Pipeline and ColumnTransformer style (default) */\n",
       "\n",
       "#sk-container-id-1 div.sk-toggleable {\n",
       "  /* Default theme specific background. It is overwritten whether we have a\n",
       "  specific estimator or a Pipeline/ColumnTransformer */\n",
       "  background-color: var(--sklearn-color-background);\n",
       "}\n",
       "\n",
       "/* Toggleable label */\n",
       "#sk-container-id-1 label.sk-toggleable__label {\n",
       "  cursor: pointer;\n",
       "  display: block;\n",
       "  width: 100%;\n",
       "  margin-bottom: 0;\n",
       "  padding: 0.5em;\n",
       "  box-sizing: border-box;\n",
       "  text-align: center;\n",
       "}\n",
       "\n",
       "#sk-container-id-1 label.sk-toggleable__label-arrow:before {\n",
       "  /* Arrow on the left of the label */\n",
       "  content: \"▸\";\n",
       "  float: left;\n",
       "  margin-right: 0.25em;\n",
       "  color: var(--sklearn-color-icon);\n",
       "}\n",
       "\n",
       "#sk-container-id-1 label.sk-toggleable__label-arrow:hover:before {\n",
       "  color: var(--sklearn-color-text);\n",
       "}\n",
       "\n",
       "/* Toggleable content - dropdown */\n",
       "\n",
       "#sk-container-id-1 div.sk-toggleable__content {\n",
       "  max-height: 0;\n",
       "  max-width: 0;\n",
       "  overflow: hidden;\n",
       "  text-align: left;\n",
       "  /* unfitted */\n",
       "  background-color: var(--sklearn-color-unfitted-level-0);\n",
       "}\n",
       "\n",
       "#sk-container-id-1 div.sk-toggleable__content.fitted {\n",
       "  /* fitted */\n",
       "  background-color: var(--sklearn-color-fitted-level-0);\n",
       "}\n",
       "\n",
       "#sk-container-id-1 div.sk-toggleable__content pre {\n",
       "  margin: 0.2em;\n",
       "  border-radius: 0.25em;\n",
       "  color: var(--sklearn-color-text);\n",
       "  /* unfitted */\n",
       "  background-color: var(--sklearn-color-unfitted-level-0);\n",
       "}\n",
       "\n",
       "#sk-container-id-1 div.sk-toggleable__content.fitted pre {\n",
       "  /* unfitted */\n",
       "  background-color: var(--sklearn-color-fitted-level-0);\n",
       "}\n",
       "\n",
       "#sk-container-id-1 input.sk-toggleable__control:checked~div.sk-toggleable__content {\n",
       "  /* Expand drop-down */\n",
       "  max-height: 200px;\n",
       "  max-width: 100%;\n",
       "  overflow: auto;\n",
       "}\n",
       "\n",
       "#sk-container-id-1 input.sk-toggleable__control:checked~label.sk-toggleable__label-arrow:before {\n",
       "  content: \"▾\";\n",
       "}\n",
       "\n",
       "/* Pipeline/ColumnTransformer-specific style */\n",
       "\n",
       "#sk-container-id-1 div.sk-label input.sk-toggleable__control:checked~label.sk-toggleable__label {\n",
       "  color: var(--sklearn-color-text);\n",
       "  background-color: var(--sklearn-color-unfitted-level-2);\n",
       "}\n",
       "\n",
       "#sk-container-id-1 div.sk-label.fitted input.sk-toggleable__control:checked~label.sk-toggleable__label {\n",
       "  background-color: var(--sklearn-color-fitted-level-2);\n",
       "}\n",
       "\n",
       "/* Estimator-specific style */\n",
       "\n",
       "/* Colorize estimator box */\n",
       "#sk-container-id-1 div.sk-estimator input.sk-toggleable__control:checked~label.sk-toggleable__label {\n",
       "  /* unfitted */\n",
       "  background-color: var(--sklearn-color-unfitted-level-2);\n",
       "}\n",
       "\n",
       "#sk-container-id-1 div.sk-estimator.fitted input.sk-toggleable__control:checked~label.sk-toggleable__label {\n",
       "  /* fitted */\n",
       "  background-color: var(--sklearn-color-fitted-level-2);\n",
       "}\n",
       "\n",
       "#sk-container-id-1 div.sk-label label.sk-toggleable__label,\n",
       "#sk-container-id-1 div.sk-label label {\n",
       "  /* The background is the default theme color */\n",
       "  color: var(--sklearn-color-text-on-default-background);\n",
       "}\n",
       "\n",
       "/* On hover, darken the color of the background */\n",
       "#sk-container-id-1 div.sk-label:hover label.sk-toggleable__label {\n",
       "  color: var(--sklearn-color-text);\n",
       "  background-color: var(--sklearn-color-unfitted-level-2);\n",
       "}\n",
       "\n",
       "/* Label box, darken color on hover, fitted */\n",
       "#sk-container-id-1 div.sk-label.fitted:hover label.sk-toggleable__label.fitted {\n",
       "  color: var(--sklearn-color-text);\n",
       "  background-color: var(--sklearn-color-fitted-level-2);\n",
       "}\n",
       "\n",
       "/* Estimator label */\n",
       "\n",
       "#sk-container-id-1 div.sk-label label {\n",
       "  font-family: monospace;\n",
       "  font-weight: bold;\n",
       "  display: inline-block;\n",
       "  line-height: 1.2em;\n",
       "}\n",
       "\n",
       "#sk-container-id-1 div.sk-label-container {\n",
       "  text-align: center;\n",
       "}\n",
       "\n",
       "/* Estimator-specific */\n",
       "#sk-container-id-1 div.sk-estimator {\n",
       "  font-family: monospace;\n",
       "  border: 1px dotted var(--sklearn-color-border-box);\n",
       "  border-radius: 0.25em;\n",
       "  box-sizing: border-box;\n",
       "  margin-bottom: 0.5em;\n",
       "  /* unfitted */\n",
       "  background-color: var(--sklearn-color-unfitted-level-0);\n",
       "}\n",
       "\n",
       "#sk-container-id-1 div.sk-estimator.fitted {\n",
       "  /* fitted */\n",
       "  background-color: var(--sklearn-color-fitted-level-0);\n",
       "}\n",
       "\n",
       "/* on hover */\n",
       "#sk-container-id-1 div.sk-estimator:hover {\n",
       "  /* unfitted */\n",
       "  background-color: var(--sklearn-color-unfitted-level-2);\n",
       "}\n",
       "\n",
       "#sk-container-id-1 div.sk-estimator.fitted:hover {\n",
       "  /* fitted */\n",
       "  background-color: var(--sklearn-color-fitted-level-2);\n",
       "}\n",
       "\n",
       "/* Specification for estimator info (e.g. \"i\" and \"?\") */\n",
       "\n",
       "/* Common style for \"i\" and \"?\" */\n",
       "\n",
       ".sk-estimator-doc-link,\n",
       "a:link.sk-estimator-doc-link,\n",
       "a:visited.sk-estimator-doc-link {\n",
       "  float: right;\n",
       "  font-size: smaller;\n",
       "  line-height: 1em;\n",
       "  font-family: monospace;\n",
       "  background-color: var(--sklearn-color-background);\n",
       "  border-radius: 1em;\n",
       "  height: 1em;\n",
       "  width: 1em;\n",
       "  text-decoration: none !important;\n",
       "  margin-left: 1ex;\n",
       "  /* unfitted */\n",
       "  border: var(--sklearn-color-unfitted-level-1) 1pt solid;\n",
       "  color: var(--sklearn-color-unfitted-level-1);\n",
       "}\n",
       "\n",
       ".sk-estimator-doc-link.fitted,\n",
       "a:link.sk-estimator-doc-link.fitted,\n",
       "a:visited.sk-estimator-doc-link.fitted {\n",
       "  /* fitted */\n",
       "  border: var(--sklearn-color-fitted-level-1) 1pt solid;\n",
       "  color: var(--sklearn-color-fitted-level-1);\n",
       "}\n",
       "\n",
       "/* On hover */\n",
       "div.sk-estimator:hover .sk-estimator-doc-link:hover,\n",
       ".sk-estimator-doc-link:hover,\n",
       "div.sk-label-container:hover .sk-estimator-doc-link:hover,\n",
       ".sk-estimator-doc-link:hover {\n",
       "  /* unfitted */\n",
       "  background-color: var(--sklearn-color-unfitted-level-3);\n",
       "  color: var(--sklearn-color-background);\n",
       "  text-decoration: none;\n",
       "}\n",
       "\n",
       "div.sk-estimator.fitted:hover .sk-estimator-doc-link.fitted:hover,\n",
       ".sk-estimator-doc-link.fitted:hover,\n",
       "div.sk-label-container:hover .sk-estimator-doc-link.fitted:hover,\n",
       ".sk-estimator-doc-link.fitted:hover {\n",
       "  /* fitted */\n",
       "  background-color: var(--sklearn-color-fitted-level-3);\n",
       "  color: var(--sklearn-color-background);\n",
       "  text-decoration: none;\n",
       "}\n",
       "\n",
       "/* Span, style for the box shown on hovering the info icon */\n",
       ".sk-estimator-doc-link span {\n",
       "  display: none;\n",
       "  z-index: 9999;\n",
       "  position: relative;\n",
       "  font-weight: normal;\n",
       "  right: .2ex;\n",
       "  padding: .5ex;\n",
       "  margin: .5ex;\n",
       "  width: min-content;\n",
       "  min-width: 20ex;\n",
       "  max-width: 50ex;\n",
       "  color: var(--sklearn-color-text);\n",
       "  box-shadow: 2pt 2pt 4pt #999;\n",
       "  /* unfitted */\n",
       "  background: var(--sklearn-color-unfitted-level-0);\n",
       "  border: .5pt solid var(--sklearn-color-unfitted-level-3);\n",
       "}\n",
       "\n",
       ".sk-estimator-doc-link.fitted span {\n",
       "  /* fitted */\n",
       "  background: var(--sklearn-color-fitted-level-0);\n",
       "  border: var(--sklearn-color-fitted-level-3);\n",
       "}\n",
       "\n",
       ".sk-estimator-doc-link:hover span {\n",
       "  display: block;\n",
       "}\n",
       "\n",
       "/* \"?\"-specific style due to the `<a>` HTML tag */\n",
       "\n",
       "#sk-container-id-1 a.estimator_doc_link {\n",
       "  float: right;\n",
       "  font-size: 1rem;\n",
       "  line-height: 1em;\n",
       "  font-family: monospace;\n",
       "  background-color: var(--sklearn-color-background);\n",
       "  border-radius: 1rem;\n",
       "  height: 1rem;\n",
       "  width: 1rem;\n",
       "  text-decoration: none;\n",
       "  /* unfitted */\n",
       "  color: var(--sklearn-color-unfitted-level-1);\n",
       "  border: var(--sklearn-color-unfitted-level-1) 1pt solid;\n",
       "}\n",
       "\n",
       "#sk-container-id-1 a.estimator_doc_link.fitted {\n",
       "  /* fitted */\n",
       "  border: var(--sklearn-color-fitted-level-1) 1pt solid;\n",
       "  color: var(--sklearn-color-fitted-level-1);\n",
       "}\n",
       "\n",
       "/* On hover */\n",
       "#sk-container-id-1 a.estimator_doc_link:hover {\n",
       "  /* unfitted */\n",
       "  background-color: var(--sklearn-color-unfitted-level-3);\n",
       "  color: var(--sklearn-color-background);\n",
       "  text-decoration: none;\n",
       "}\n",
       "\n",
       "#sk-container-id-1 a.estimator_doc_link.fitted:hover {\n",
       "  /* fitted */\n",
       "  background-color: var(--sklearn-color-fitted-level-3);\n",
       "}\n",
       "</style><div id=\"sk-container-id-1\" class=\"sk-top-container\"><div class=\"sk-text-repr-fallback\"><pre>LogisticRegression(class_weight=&#x27;balanced&#x27;, max_iter=1000, solver=&#x27;liblinear&#x27;)</pre><b>In a Jupyter environment, please rerun this cell to show the HTML representation or trust the notebook. <br />On GitHub, the HTML representation is unable to render, please try loading this page with nbviewer.org.</b></div><div class=\"sk-container\" hidden><div class=\"sk-item\"><div class=\"sk-estimator fitted sk-toggleable\"><input class=\"sk-toggleable__control sk-hidden--visually\" id=\"sk-estimator-id-1\" type=\"checkbox\" checked><label for=\"sk-estimator-id-1\" class=\"sk-toggleable__label fitted sk-toggleable__label-arrow fitted\">&nbsp;&nbsp;LogisticRegression<a class=\"sk-estimator-doc-link fitted\" rel=\"noreferrer\" target=\"_blank\" href=\"https://scikit-learn.org/1.5/modules/generated/sklearn.linear_model.LogisticRegression.html\">?<span>Documentation for LogisticRegression</span></a><span class=\"sk-estimator-doc-link fitted\">i<span>Fitted</span></span></label><div class=\"sk-toggleable__content fitted\"><pre>LogisticRegression(class_weight=&#x27;balanced&#x27;, max_iter=1000, solver=&#x27;liblinear&#x27;)</pre></div> </div></div></div></div>"
      ],
      "text/plain": [
       "LogisticRegression(class_weight='balanced', max_iter=1000, solver='liblinear')"
      ]
     },
     "execution_count": 66,
     "metadata": {},
     "output_type": "execute_result"
    }
   ],
   "source": [
    "logic_classifier=LogisticRegression(class_weight='balanced', solver='liblinear', max_iter=1000)\n",
    "logic_classifier.fit(X_resampled, y_resampled)"
   ]
  },
  {
   "cell_type": "code",
   "execution_count": 67,
   "id": "489a6e38",
   "metadata": {
    "vscode": {
     "languageId": "markdown"
    }
   },
   "outputs": [
    {
     "name": "stdout",
     "output_type": "stream",
     "text": [
      "Best threshold: 0.480, Best F1: 0.168\n"
     ]
    }
   ],
   "source": [
    "y_logic_prob = logic_classifier.predict_proba(X_test_processed)[:, 1]\n",
    "best_f1 = 0\n",
    "best_thresh = 0.5\n",
    "for threshold in np.arange(0.1, 0.9, 0.02):\n",
    "    y_pred_thresh = (y_logic_prob >= threshold).astype(int)\n",
    "    f1 = f1_score(y_test, y_pred_thresh)\n",
    "    if f1 > best_f1:\n",
    "        best_f1 = f1\n",
    "        best_thresh = threshold\n",
    "\n",
    "print(f\"Best threshold: {best_thresh:.3f}, Best F1: {best_f1:.3f}\")"
   ]
  },
  {
   "cell_type": "code",
   "execution_count": 68,
   "id": "8e0ebec1",
   "metadata": {
    "vscode": {
     "languageId": "markdown"
    }
   },
   "outputs": [
    {
     "name": "stdout",
     "output_type": "stream",
     "text": [
      "AUC: 0.5619711423159889\n",
      "F1 score: 0.16779799076839533\n",
      "Precision: 0.0975071000315557\n",
      "Recall: 0.6011673151750972\n",
      "Confusion Matrix:\n",
      " [[2997 2860]\n",
      " [ 205  309]]\n"
     ]
    }
   ],
   "source": [
    "final_logic_pred = (y_logic_prob >= best_thresh).astype(int)\n",
    "\n",
    "print(\"AUC:\", roc_auc_score(y_test, y_logic_prob))\n",
    "print(\"F1 score:\", f1_score(y_test, final_logic_pred))\n",
    "print(\"Precision:\", precision_score(y_test, final_logic_pred))\n",
    "print(\"Recall:\", recall_score(y_test, final_logic_pred))\n",
    "print(\"Confusion Matrix:\\n\", confusion_matrix(y_test, final_logic_pred))"
   ]
  },
  {
   "cell_type": "code",
   "execution_count": 69,
   "id": "675b7bb5",
   "metadata": {
    "vscode": {
     "languageId": "markdown"
    }
   },
   "outputs": [],
   "source": [
    "agg_models.append(\"Logistic\")\n",
    "agg_precision_scores.append(precision_score(y_test,final_logic_pred))\n",
    "agg_recall_scores.append(recall_score(y_test,final_logic_pred))\n",
    "agg_f1_scores.append(f1_score(y_test,final_logic_pred))"
   ]
  },
  {
   "cell_type": "code",
   "execution_count": null,
   "id": "81b67f72",
   "metadata": {
    "vscode": {
     "languageId": "markdown"
    }
   },
   "outputs": [],
   "source": []
  },
  {
   "cell_type": "markdown",
   "id": "b4462bcb",
   "metadata": {},
   "source": [
    "Model 2: Light GBM"
   ]
  },
  {
   "cell_type": "markdown",
   "id": "09e23862",
   "metadata": {},
   "source": [
    "Model 3: XGBoost"
   ]
  },
  {
   "cell_type": "markdown",
   "id": "c92dfc32",
   "metadata": {},
   "source": [
    "Model 4: Random Forest"
   ]
  },
  {
   "cell_type": "code",
   "execution_count": 70,
   "id": "7392da5f",
   "metadata": {},
   "outputs": [
    {
     "name": "stderr",
     "output_type": "stream",
     "text": [
      "d:\\anaconda3\\Lib\\site-packages\\xgboost\\core.py:158: UserWarning: [12:26:04] WARNING: C:\\buildkite-agent\\builds\\buildkite-windows-cpu-autoscaling-group-i-0c55ff5f71b100e98-1\\xgboost\\xgboost-ci-windows\\src\\learner.cc:740: \n",
      "Parameters: { \"use_label_encoder\" } are not used.\n",
      "\n",
      "  warnings.warn(smsg, UserWarning)\n"
     ]
    },
    {
     "name": "stdout",
     "output_type": "stream",
     "text": [
      "[LightGBM] [Info] Number of positive: 13626, number of negative: 13626\n",
      "[LightGBM] [Info] Auto-choosing row-wise multi-threading, the overhead of testing was 0.020532 seconds.\n",
      "You can set `force_row_wise=true` to remove the overhead.\n",
      "And if memory is not enough, you can set `force_col_wise=true`.\n",
      "[LightGBM] [Info] Total Bins 14419\n",
      "[LightGBM] [Info] Number of data points in the train set: 27252, number of used features: 123\n",
      "[LightGBM] [Info] [binary:BoostFromScore]: pavg=0.500000 -> initscore=0.000000\n",
      "Random Forest - Best Threshold: 0.160, Best F1: 0.158\n",
      "XGBoost - Best Threshold: 0.150, Best F1: 0.162\n",
      "LightGBM - Best Threshold: 0.166, Best F1: 0.166\n"
     ]
    }
   ],
   "source": [
    "scale_pos_weight = (y_resampled == 0).sum() / (y_resampled == 1).sum()\n",
    "\n",
    "lgb_model = LGBMClassifier(\n",
    "    scale_pos_weight=scale_pos_weight,\n",
    "    random_state=42\n",
    ")\n",
    "xgb_model = XGBClassifier(\n",
    "    use_label_encoder=False,\n",
    "    eval_metric='logloss',\n",
    "    scale_pos_weight=scale_pos_weight,\n",
    "    random_state=42\n",
    ")\n",
    "rf_model = RandomForestClassifier(class_weight='balanced', random_state=42)\n",
    "\n",
    "xgb_model.fit(X_resampled, y_resampled)\n",
    "rf_model.fit(X_resampled, y_resampled)\n",
    "lgb_model.fit(X_resampled, y_resampled)\n",
    "\n",
    "def find_best_threshold(y_true, y_prob):\n",
    "    precision, recall, thresholds = precision_recall_curve(y_true, y_prob)\n",
    "    f1_scores = 2 * (precision * recall) / (precision + recall + 1e-10)  # 加1e-10防止除零\n",
    "    best_index = np.argmax(f1_scores)\n",
    "    return thresholds[best_index], f1_scores[best_index]\n",
    "\n",
    "y_prob_rf = rf_model.predict_proba(X_test_processed)[:, 1]\n",
    "best_thresh_rf, best_f1_rf = find_best_threshold(y_test, y_prob_rf)\n",
    "\n",
    "y_prob_xgb = xgb_model.predict_proba(X_test_processed)[:, 1]\n",
    "best_thresh_xgb, best_f1_xgb = find_best_threshold(y_test, y_prob_xgb)\n",
    "\n",
    "y_prob_lgb = lgb_model.predict_proba(X_test_processed)[:, 1]\n",
    "best_thresh_lgb, best_f1_lgb = find_best_threshold(y_test, y_prob_lgb)\n",
    "\n",
    "print(f\"Random Forest - Best Threshold: {best_thresh_rf:.3f}, Best F1: {best_f1_rf:.3f}\")\n",
    "print(f\"XGBoost - Best Threshold: {best_thresh_xgb:.3f}, Best F1: {best_f1_xgb:.3f}\")\n",
    "print(f\"LightGBM - Best Threshold: {best_thresh_lgb:.3f}, Best F1: {best_f1_lgb:.3f}\")"
   ]
  },
  {
   "cell_type": "code",
   "execution_count": 71,
   "id": "600a8f6a",
   "metadata": {},
   "outputs": [],
   "source": [
    "final_lgb_pred = (y_prob_lgb >= best_thresh_lgb).astype(int)\n",
    "agg_models.append(\"LightGBM\")\n",
    "agg_precision_scores.append(precision_score(y_test, final_lgb_pred))\n",
    "agg_recall_scores.append(recall_score(y_test, final_lgb_pred))\n",
    "agg_f1_scores.append(f1_score(y_test, final_lgb_pred))\n",
    "\n",
    "final_xgb_pred = (y_prob_xgb >= best_thresh_xgb).astype(int)\n",
    "agg_models.append(\"XGBoost\")\n",
    "agg_precision_scores.append(precision_score(y_test, final_xgb_pred))\n",
    "agg_recall_scores.append(recall_score(y_test, final_xgb_pred))\n",
    "agg_f1_scores.append(f1_score(y_test, final_xgb_pred))\n",
    "\n",
    "final_rf_pred = (y_prob_rf >= best_thresh_rf).astype(int)\n",
    "agg_models.append(\"Random Forest\")\n",
    "agg_precision_scores.append(precision_score(y_test, final_rf_pred))\n",
    "agg_recall_scores.append(recall_score(y_test, final_rf_pred))\n",
    "agg_f1_scores.append(f1_score(y_test, final_rf_pred))"
   ]
  },
  {
   "cell_type": "code",
   "execution_count": 72,
   "id": "58b5d1d2",
   "metadata": {},
   "outputs": [
    {
     "data": {
      "image/png": "[encoded data removed]",
      "text/plain": [
       "<Figure size 1000x600 with 1 Axes>"
      ]
     },
     "metadata": {},
     "output_type": "display_data"
    }
   ],
   "source": [
    "# draw the metricx \n",
    "x = np.arange(len(agg_models))  # 模型数\n",
    "width = 0.25  # 每组柱子的宽度\n",
    "\n",
    "fig, ax = plt.subplots(figsize=(10, 6))\n",
    "ax.bar(x - width, agg_precision_scores, width, label='Precision')\n",
    "ax.bar(x, agg_recall_scores, width, label='Recall')\n",
    "ax.bar(x + width, agg_f1_scores, width, label='F1 Score')\n",
    "\n",
    "# 设置图表格式\n",
    "ax.set_ylabel('Score')\n",
    "ax.set_title('Model Comparison: Precision, Recall, F1 Score')\n",
    "ax.set_xticks(x)\n",
    "ax.set_xticklabels(agg_models)\n",
    "ax.set_ylim(0, 1)\n",
    "ax.legend()\n",
    "\n",
    "plt.tight_layout()\n",
    "plt.show()"
   ]
  },
  {
   "cell_type": "markdown",
   "id": "4b684ba3",
   "metadata": {},
   "source": []
  }
 ],
 "metadata": {
  "kernelspec": {
   "display_name": "base",
   "language": "python",
   "name": "python3"
  },
  "language_info": {
   "codemirror_mode": {
    "name": "ipython",
    "version": 3
   },
   "file_extension": ".py",
   "mimetype": "text/x-python",
   "name": "python",
   "nbconvert_exporter": "python",
   "pygments_lexer": "ipython3",
   "version": "3.12.8"
  }
 },
 "nbformat": 4,
 "nbformat_minor": 5
}
